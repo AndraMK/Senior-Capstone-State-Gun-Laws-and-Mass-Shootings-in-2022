{
 "cells": [
  {
   "cell_type": "code",
   "execution_count": 1,
   "id": "bcb37690",
   "metadata": {},
   "outputs": [],
   "source": [
    "import pandas as pd\n",
    "import numpy as np\n",
    "import random\n",
    "import matplotlib.pyplot as plt\n",
    "%matplotlib inline\n",
    "\n",
    "random.seed(42)\n",
    "\n",
    "#Read in datafile\n",
    "mass_shooting_22 = pd.read_csv('gva_mass_shooting_2022.csv')"
   ]
  },
  {
   "cell_type": "code",
   "execution_count": 2,
   "id": "4bc4257b",
   "metadata": {},
   "outputs": [
    {
     "data": {
      "text/html": [
       "<div>\n",
       "<style scoped>\n",
       "    .dataframe tbody tr th:only-of-type {\n",
       "        vertical-align: middle;\n",
       "    }\n",
       "\n",
       "    .dataframe tbody tr th {\n",
       "        vertical-align: top;\n",
       "    }\n",
       "\n",
       "    .dataframe thead th {\n",
       "        text-align: right;\n",
       "    }\n",
       "</style>\n",
       "<table border=\"1\" class=\"dataframe\">\n",
       "  <thead>\n",
       "    <tr style=\"text-align: right;\">\n",
       "      <th></th>\n",
       "      <th>Incident ID</th>\n",
       "      <th>Incident Date</th>\n",
       "      <th>State</th>\n",
       "      <th>City Or County</th>\n",
       "      <th>Address</th>\n",
       "      <th># Killed</th>\n",
       "      <th># Injured</th>\n",
       "      <th>Operations</th>\n",
       "    </tr>\n",
       "  </thead>\n",
       "  <tbody>\n",
       "    <tr>\n",
       "      <th>415</th>\n",
       "      <td>2318046</td>\n",
       "      <td>31-May-22</td>\n",
       "      <td>Texas</td>\n",
       "      <td>Waco</td>\n",
       "      <td>1900 block of Preston St</td>\n",
       "      <td>0</td>\n",
       "      <td>4</td>\n",
       "      <td>NaN</td>\n",
       "    </tr>\n",
       "    <tr>\n",
       "      <th>532</th>\n",
       "      <td>2268762</td>\n",
       "      <td>2-Apr-22</td>\n",
       "      <td>Louisiana</td>\n",
       "      <td>Monroe</td>\n",
       "      <td>100 Sterlington Rd</td>\n",
       "      <td>1</td>\n",
       "      <td>5</td>\n",
       "      <td>NaN</td>\n",
       "    </tr>\n",
       "    <tr>\n",
       "      <th>463</th>\n",
       "      <td>2299176</td>\n",
       "      <td>10-May-22</td>\n",
       "      <td>Texas</td>\n",
       "      <td>Brookshire</td>\n",
       "      <td>Purdy and 4th St</td>\n",
       "      <td>1</td>\n",
       "      <td>3</td>\n",
       "      <td>NaN</td>\n",
       "    </tr>\n",
       "    <tr>\n",
       "      <th>98</th>\n",
       "      <td>2450590</td>\n",
       "      <td>21-Oct-22</td>\n",
       "      <td>Mississippi</td>\n",
       "      <td>Cleveland</td>\n",
       "      <td>511 Lee St</td>\n",
       "      <td>1</td>\n",
       "      <td>3</td>\n",
       "      <td>NaN</td>\n",
       "    </tr>\n",
       "    <tr>\n",
       "      <th>190</th>\n",
       "      <td>2406656</td>\n",
       "      <td>4-Sep-22</td>\n",
       "      <td>Florida</td>\n",
       "      <td>Fort Lauderdale (Lauderdale Lakes)</td>\n",
       "      <td>3050 NW 41st St</td>\n",
       "      <td>0</td>\n",
       "      <td>4</td>\n",
       "      <td>NaN</td>\n",
       "    </tr>\n",
       "    <tr>\n",
       "      <th>121</th>\n",
       "      <td>2434326</td>\n",
       "      <td>9-Oct-22</td>\n",
       "      <td>Arkansas</td>\n",
       "      <td>Jacksonville</td>\n",
       "      <td>300 Marshall Rd</td>\n",
       "      <td>1</td>\n",
       "      <td>3</td>\n",
       "      <td>NaN</td>\n",
       "    </tr>\n",
       "    <tr>\n",
       "      <th>110</th>\n",
       "      <td>2438494</td>\n",
       "      <td>15-Oct-22</td>\n",
       "      <td>New York</td>\n",
       "      <td>Freeport</td>\n",
       "      <td>Babylon Tpke and Independence Ave</td>\n",
       "      <td>0</td>\n",
       "      <td>4</td>\n",
       "      <td>NaN</td>\n",
       "    </tr>\n",
       "    <tr>\n",
       "      <th>49</th>\n",
       "      <td>2462457</td>\n",
       "      <td>18-Nov-22</td>\n",
       "      <td>Virginia</td>\n",
       "      <td>Richmond</td>\n",
       "      <td>4275 Laurel Oak Rd</td>\n",
       "      <td>4</td>\n",
       "      <td>0</td>\n",
       "      <td>NaN</td>\n",
       "    </tr>\n",
       "    <tr>\n",
       "      <th>87</th>\n",
       "      <td>2445686</td>\n",
       "      <td>25-Oct-22</td>\n",
       "      <td>Ohio</td>\n",
       "      <td>Hamilton</td>\n",
       "      <td>700 block of S 2nd St</td>\n",
       "      <td>2</td>\n",
       "      <td>2</td>\n",
       "      <td>NaN</td>\n",
       "    </tr>\n",
       "    <tr>\n",
       "      <th>360</th>\n",
       "      <td>2340696</td>\n",
       "      <td>26-Jun-22</td>\n",
       "      <td>Texas</td>\n",
       "      <td>Winona</td>\n",
       "      <td>18005 FM 2767</td>\n",
       "      <td>0</td>\n",
       "      <td>5</td>\n",
       "      <td>NaN</td>\n",
       "    </tr>\n",
       "    <tr>\n",
       "      <th>484</th>\n",
       "      <td>2290026</td>\n",
       "      <td>28-Apr-22</td>\n",
       "      <td>Alabama</td>\n",
       "      <td>Bessemer</td>\n",
       "      <td>1800 block of Berkley Ave</td>\n",
       "      <td>1</td>\n",
       "      <td>3</td>\n",
       "      <td>NaN</td>\n",
       "    </tr>\n",
       "    <tr>\n",
       "      <th>432</th>\n",
       "      <td>2313970</td>\n",
       "      <td>27-May-22</td>\n",
       "      <td>Michigan</td>\n",
       "      <td>Stanwood</td>\n",
       "      <td>10711 185th Ave</td>\n",
       "      <td>4</td>\n",
       "      <td>1</td>\n",
       "      <td>NaN</td>\n",
       "    </tr>\n",
       "    <tr>\n",
       "      <th>242</th>\n",
       "      <td>2382827</td>\n",
       "      <td>8-Aug-22</td>\n",
       "      <td>Virginia</td>\n",
       "      <td>Richmond</td>\n",
       "      <td>3100 Carolina Ave</td>\n",
       "      <td>0</td>\n",
       "      <td>4</td>\n",
       "      <td>NaN</td>\n",
       "    </tr>\n",
       "    <tr>\n",
       "      <th>99</th>\n",
       "      <td>2442632</td>\n",
       "      <td>21-Oct-22</td>\n",
       "      <td>Louisiana</td>\n",
       "      <td>New Orleans</td>\n",
       "      <td>2200 block of N Galvez St</td>\n",
       "      <td>1</td>\n",
       "      <td>3</td>\n",
       "      <td>NaN</td>\n",
       "    </tr>\n",
       "    <tr>\n",
       "      <th>526</th>\n",
       "      <td>2270578</td>\n",
       "      <td>4-Apr-22</td>\n",
       "      <td>Connecticut</td>\n",
       "      <td>Hartford</td>\n",
       "      <td>Bedford St and Mather St</td>\n",
       "      <td>1</td>\n",
       "      <td>3</td>\n",
       "      <td>NaN</td>\n",
       "    </tr>\n",
       "    <tr>\n",
       "      <th>291</th>\n",
       "      <td>2363589</td>\n",
       "      <td>19-Jul-22</td>\n",
       "      <td>Nebraska</td>\n",
       "      <td>Lincoln</td>\n",
       "      <td>2835 T St</td>\n",
       "      <td>0</td>\n",
       "      <td>4</td>\n",
       "      <td>NaN</td>\n",
       "    </tr>\n",
       "    <tr>\n",
       "      <th>249</th>\n",
       "      <td>2380783</td>\n",
       "      <td>6-Aug-22</td>\n",
       "      <td>Pennsylvania</td>\n",
       "      <td>Duquesne</td>\n",
       "      <td>Orchard Park Ave and Ridge St</td>\n",
       "      <td>0</td>\n",
       "      <td>4</td>\n",
       "      <td>NaN</td>\n",
       "    </tr>\n",
       "    <tr>\n",
       "      <th>44</th>\n",
       "      <td>2464943</td>\n",
       "      <td>20-Nov-22</td>\n",
       "      <td>Oklahoma</td>\n",
       "      <td>Hennessey</td>\n",
       "      <td>2372 N 2760 Rd</td>\n",
       "      <td>4</td>\n",
       "      <td>1</td>\n",
       "      <td>NaN</td>\n",
       "    </tr>\n",
       "    <tr>\n",
       "      <th>147</th>\n",
       "      <td>2425839</td>\n",
       "      <td>27-Sep-22</td>\n",
       "      <td>Florida</td>\n",
       "      <td>Jacksonville</td>\n",
       "      <td>A Philip Randolph Blvd and Union St</td>\n",
       "      <td>0</td>\n",
       "      <td>4</td>\n",
       "      <td>NaN</td>\n",
       "    </tr>\n",
       "    <tr>\n",
       "      <th>551</th>\n",
       "      <td>2257778</td>\n",
       "      <td>18-Mar-22</td>\n",
       "      <td>Louisiana</td>\n",
       "      <td>New Iberia</td>\n",
       "      <td>200 block of C V Jackson Dr</td>\n",
       "      <td>0</td>\n",
       "      <td>5</td>\n",
       "      <td>NaN</td>\n",
       "    </tr>\n",
       "  </tbody>\n",
       "</table>\n",
       "</div>"
      ],
      "text/plain": [
       "     Incident ID Incident Date         State  \\\n",
       "415      2318046     31-May-22         Texas   \n",
       "532      2268762      2-Apr-22     Louisiana   \n",
       "463      2299176     10-May-22         Texas   \n",
       "98       2450590     21-Oct-22   Mississippi   \n",
       "190      2406656      4-Sep-22       Florida   \n",
       "121      2434326      9-Oct-22      Arkansas   \n",
       "110      2438494     15-Oct-22      New York   \n",
       "49       2462457     18-Nov-22      Virginia   \n",
       "87       2445686     25-Oct-22          Ohio   \n",
       "360      2340696     26-Jun-22         Texas   \n",
       "484      2290026     28-Apr-22       Alabama   \n",
       "432      2313970     27-May-22      Michigan   \n",
       "242      2382827      8-Aug-22      Virginia   \n",
       "99       2442632     21-Oct-22     Louisiana   \n",
       "526      2270578      4-Apr-22   Connecticut   \n",
       "291      2363589     19-Jul-22      Nebraska   \n",
       "249      2380783      6-Aug-22  Pennsylvania   \n",
       "44       2464943     20-Nov-22      Oklahoma   \n",
       "147      2425839     27-Sep-22       Florida   \n",
       "551      2257778     18-Mar-22     Louisiana   \n",
       "\n",
       "                         City Or County                              Address  \\\n",
       "415                                Waco             1900 block of Preston St   \n",
       "532                              Monroe                   100 Sterlington Rd   \n",
       "463                          Brookshire                     Purdy and 4th St   \n",
       "98                            Cleveland                           511 Lee St   \n",
       "190  Fort Lauderdale (Lauderdale Lakes)                      3050 NW 41st St   \n",
       "121                        Jacksonville                      300 Marshall Rd   \n",
       "110                            Freeport    Babylon Tpke and Independence Ave   \n",
       "49                             Richmond                   4275 Laurel Oak Rd   \n",
       "87                             Hamilton                700 block of S 2nd St   \n",
       "360                              Winona                        18005 FM 2767   \n",
       "484                            Bessemer            1800 block of Berkley Ave   \n",
       "432                            Stanwood                      10711 185th Ave   \n",
       "242                            Richmond                    3100 Carolina Ave   \n",
       "99                          New Orleans            2200 block of N Galvez St   \n",
       "526                            Hartford             Bedford St and Mather St   \n",
       "291                             Lincoln                            2835 T St   \n",
       "249                            Duquesne        Orchard Park Ave and Ridge St   \n",
       "44                            Hennessey                       2372 N 2760 Rd   \n",
       "147                        Jacksonville  A Philip Randolph Blvd and Union St   \n",
       "551                          New Iberia          200 block of C V Jackson Dr   \n",
       "\n",
       "     # Killed  # Injured  Operations  \n",
       "415         0          4         NaN  \n",
       "532         1          5         NaN  \n",
       "463         1          3         NaN  \n",
       "98          1          3         NaN  \n",
       "190         0          4         NaN  \n",
       "121         1          3         NaN  \n",
       "110         0          4         NaN  \n",
       "49          4          0         NaN  \n",
       "87          2          2         NaN  \n",
       "360         0          5         NaN  \n",
       "484         1          3         NaN  \n",
       "432         4          1         NaN  \n",
       "242         0          4         NaN  \n",
       "99          1          3         NaN  \n",
       "526         1          3         NaN  \n",
       "291         0          4         NaN  \n",
       "249         0          4         NaN  \n",
       "44          4          1         NaN  \n",
       "147         0          4         NaN  \n",
       "551         0          5         NaN  "
      ]
     },
     "execution_count": 2,
     "metadata": {},
     "output_type": "execute_result"
    }
   ],
   "source": [
    "#Viewing df\n",
    "mass_shooting_22.sample(20)"
   ]
  },
  {
   "cell_type": "code",
   "execution_count": 3,
   "id": "61620caf",
   "metadata": {
    "scrolled": true
   },
   "outputs": [
    {
     "name": "stdout",
     "output_type": "stream",
     "text": [
      "<class 'pandas.core.frame.DataFrame'>\n",
      "RangeIndex: 648 entries, 0 to 647\n",
      "Data columns (total 8 columns):\n",
      " #   Column          Non-Null Count  Dtype  \n",
      "---  ------          --------------  -----  \n",
      " 0   Incident ID     648 non-null    int64  \n",
      " 1   Incident Date   648 non-null    object \n",
      " 2   State           648 non-null    object \n",
      " 3   City Or County  648 non-null    object \n",
      " 4   Address         641 non-null    object \n",
      " 5   # Killed        648 non-null    int64  \n",
      " 6   # Injured       648 non-null    int64  \n",
      " 7   Operations      0 non-null      float64\n",
      "dtypes: float64(1), int64(3), object(4)\n",
      "memory usage: 40.6+ KB\n"
     ]
    }
   ],
   "source": [
    "#Viewing df\n",
    "mass_shooting_22.info()"
   ]
  },
  {
   "cell_type": "code",
   "execution_count": 4,
   "id": "0cc4fca6",
   "metadata": {},
   "outputs": [
    {
     "data": {
      "text/plain": [
       "(648, 8)"
      ]
     },
     "execution_count": 4,
     "metadata": {},
     "output_type": "execute_result"
    }
   ],
   "source": [
    "#Getting df shape\n",
    "mass_shooting_22.shape"
   ]
  },
  {
   "cell_type": "code",
   "execution_count": 5,
   "id": "91e1bed7",
   "metadata": {
    "scrolled": true
   },
   "outputs": [
    {
     "data": {
      "text/plain": [
       "Incident ID         int64\n",
       "Incident Date      object\n",
       "State              object\n",
       "City Or County     object\n",
       "Address            object\n",
       "# Killed            int64\n",
       "# Injured           int64\n",
       "Operations        float64\n",
       "dtype: object"
      ]
     },
     "execution_count": 5,
     "metadata": {},
     "output_type": "execute_result"
    }
   ],
   "source": [
    "#Viewing datatypes\n",
    "mass_shooting_22.dtypes"
   ]
  },
  {
   "cell_type": "code",
   "execution_count": 6,
   "id": "d9ce3afd",
   "metadata": {},
   "outputs": [
    {
     "data": {
      "text/plain": [
       "Incident ID         0\n",
       "Incident Date       0\n",
       "State               0\n",
       "City Or County      0\n",
       "Address             7\n",
       "# Killed            0\n",
       "# Injured           0\n",
       "Operations        648\n",
       "dtype: int64"
      ]
     },
     "execution_count": 6,
     "metadata": {},
     "output_type": "execute_result"
    }
   ],
   "source": [
    "#Viewing Null values\n",
    "mass_shooting_22.isnull().sum()"
   ]
  },
  {
   "cell_type": "code",
   "execution_count": 7,
   "id": "a429f020",
   "metadata": {},
   "outputs": [
    {
     "data": {
      "text/html": [
       "<div>\n",
       "<style scoped>\n",
       "    .dataframe tbody tr th:only-of-type {\n",
       "        vertical-align: middle;\n",
       "    }\n",
       "\n",
       "    .dataframe tbody tr th {\n",
       "        vertical-align: top;\n",
       "    }\n",
       "\n",
       "    .dataframe thead th {\n",
       "        text-align: right;\n",
       "    }\n",
       "</style>\n",
       "<table border=\"1\" class=\"dataframe\">\n",
       "  <thead>\n",
       "    <tr style=\"text-align: right;\">\n",
       "      <th></th>\n",
       "      <th>Incident ID</th>\n",
       "      <th># Killed</th>\n",
       "      <th># Injured</th>\n",
       "      <th>Operations</th>\n",
       "    </tr>\n",
       "  </thead>\n",
       "  <tbody>\n",
       "    <tr>\n",
       "      <th>count</th>\n",
       "      <td>6.480000e+02</td>\n",
       "      <td>648.000000</td>\n",
       "      <td>648.000000</td>\n",
       "      <td>0.0</td>\n",
       "    </tr>\n",
       "    <tr>\n",
       "      <th>mean</th>\n",
       "      <td>2.351736e+06</td>\n",
       "      <td>1.043210</td>\n",
       "      <td>4.169753</td>\n",
       "      <td>NaN</td>\n",
       "    </tr>\n",
       "    <tr>\n",
       "      <th>std</th>\n",
       "      <td>7.799541e+04</td>\n",
       "      <td>1.588594</td>\n",
       "      <td>2.520190</td>\n",
       "      <td>NaN</td>\n",
       "    </tr>\n",
       "    <tr>\n",
       "      <th>min</th>\n",
       "      <td>2.201629e+06</td>\n",
       "      <td>0.000000</td>\n",
       "      <td>0.000000</td>\n",
       "      <td>NaN</td>\n",
       "    </tr>\n",
       "    <tr>\n",
       "      <th>25%</th>\n",
       "      <td>2.289553e+06</td>\n",
       "      <td>0.000000</td>\n",
       "      <td>3.000000</td>\n",
       "      <td>NaN</td>\n",
       "    </tr>\n",
       "    <tr>\n",
       "      <th>50%</th>\n",
       "      <td>2.354791e+06</td>\n",
       "      <td>1.000000</td>\n",
       "      <td>4.000000</td>\n",
       "      <td>NaN</td>\n",
       "    </tr>\n",
       "    <tr>\n",
       "      <th>75%</th>\n",
       "      <td>2.416895e+06</td>\n",
       "      <td>1.000000</td>\n",
       "      <td>5.000000</td>\n",
       "      <td>NaN</td>\n",
       "    </tr>\n",
       "    <tr>\n",
       "      <th>max</th>\n",
       "      <td>2.492253e+06</td>\n",
       "      <td>22.000000</td>\n",
       "      <td>29.000000</td>\n",
       "      <td>NaN</td>\n",
       "    </tr>\n",
       "  </tbody>\n",
       "</table>\n",
       "</div>"
      ],
      "text/plain": [
       "        Incident ID    # Killed   # Injured  Operations\n",
       "count  6.480000e+02  648.000000  648.000000         0.0\n",
       "mean   2.351736e+06    1.043210    4.169753         NaN\n",
       "std    7.799541e+04    1.588594    2.520190         NaN\n",
       "min    2.201629e+06    0.000000    0.000000         NaN\n",
       "25%    2.289553e+06    0.000000    3.000000         NaN\n",
       "50%    2.354791e+06    1.000000    4.000000         NaN\n",
       "75%    2.416895e+06    1.000000    5.000000         NaN\n",
       "max    2.492253e+06   22.000000   29.000000         NaN"
      ]
     },
     "execution_count": 7,
     "metadata": {},
     "output_type": "execute_result"
    }
   ],
   "source": [
    "#Viewing descriptive stats\n",
    "mass_shooting_22.describe()"
   ]
  },
  {
   "cell_type": "markdown",
   "id": "1fa1691b",
   "metadata": {},
   "source": [
    "### Data Cleaning ###\n",
    "- Change Incident Date from object to datetime\n",
    "- Drop columns Address and Operations\n",
    "- Rename Columns '# Killed', '# Injured'\n",
    "- Investigate and Resolve Null values"
   ]
  },
  {
   "cell_type": "code",
   "execution_count": 8,
   "id": "b82c0375",
   "metadata": {},
   "outputs": [
    {
     "data": {
      "text/html": [
       "<div>\n",
       "<style scoped>\n",
       "    .dataframe tbody tr th:only-of-type {\n",
       "        vertical-align: middle;\n",
       "    }\n",
       "\n",
       "    .dataframe tbody tr th {\n",
       "        vertical-align: top;\n",
       "    }\n",
       "\n",
       "    .dataframe thead th {\n",
       "        text-align: right;\n",
       "    }\n",
       "</style>\n",
       "<table border=\"1\" class=\"dataframe\">\n",
       "  <thead>\n",
       "    <tr style=\"text-align: right;\">\n",
       "      <th></th>\n",
       "      <th>Incident ID</th>\n",
       "      <th>Incident Date</th>\n",
       "      <th>State</th>\n",
       "      <th>City Or County</th>\n",
       "      <th>Address</th>\n",
       "      <th># Killed</th>\n",
       "      <th># Injured</th>\n",
       "      <th>Operations</th>\n",
       "    </tr>\n",
       "  </thead>\n",
       "  <tbody>\n",
       "    <tr>\n",
       "      <th>0</th>\n",
       "      <td>2491656</td>\n",
       "      <td>31-Dec-22</td>\n",
       "      <td>Arizona</td>\n",
       "      <td>Phoenix</td>\n",
       "      <td>4201 N 19th Ave</td>\n",
       "      <td>0</td>\n",
       "      <td>9</td>\n",
       "      <td>NaN</td>\n",
       "    </tr>\n",
       "    <tr>\n",
       "      <th>1</th>\n",
       "      <td>2492253</td>\n",
       "      <td>31-Dec-22</td>\n",
       "      <td>Alabama</td>\n",
       "      <td>Mobile</td>\n",
       "      <td>200 block of Dauphin St</td>\n",
       "      <td>1</td>\n",
       "      <td>8</td>\n",
       "      <td>NaN</td>\n",
       "    </tr>\n",
       "    <tr>\n",
       "      <th>2</th>\n",
       "      <td>2491054</td>\n",
       "      <td>30-Dec-22</td>\n",
       "      <td>Tennessee</td>\n",
       "      <td>Memphis</td>\n",
       "      <td>E Brooks Rd</td>\n",
       "      <td>1</td>\n",
       "      <td>3</td>\n",
       "      <td>NaN</td>\n",
       "    </tr>\n",
       "    <tr>\n",
       "      <th>3</th>\n",
       "      <td>2490925</td>\n",
       "      <td>30-Dec-22</td>\n",
       "      <td>Texas</td>\n",
       "      <td>Humble</td>\n",
       "      <td>4800 block of Park Square Ln</td>\n",
       "      <td>2</td>\n",
       "      <td>3</td>\n",
       "      <td>NaN</td>\n",
       "    </tr>\n",
       "    <tr>\n",
       "      <th>4</th>\n",
       "      <td>2489614</td>\n",
       "      <td>28-Dec-22</td>\n",
       "      <td>New York</td>\n",
       "      <td>Bronx</td>\n",
       "      <td>851 E Tremont Ave</td>\n",
       "      <td>1</td>\n",
       "      <td>3</td>\n",
       "      <td>NaN</td>\n",
       "    </tr>\n",
       "  </tbody>\n",
       "</table>\n",
       "</div>"
      ],
      "text/plain": [
       "   Incident ID Incident Date      State City Or County  \\\n",
       "0      2491656     31-Dec-22    Arizona        Phoenix   \n",
       "1      2492253     31-Dec-22    Alabama         Mobile   \n",
       "2      2491054     30-Dec-22  Tennessee        Memphis   \n",
       "3      2490925     30-Dec-22      Texas         Humble   \n",
       "4      2489614     28-Dec-22   New York          Bronx   \n",
       "\n",
       "                        Address  # Killed  # Injured  Operations  \n",
       "0               4201 N 19th Ave         0          9         NaN  \n",
       "1       200 block of Dauphin St         1          8         NaN  \n",
       "2                   E Brooks Rd         1          3         NaN  \n",
       "3  4800 block of Park Square Ln         2          3         NaN  \n",
       "4             851 E Tremont Ave         1          3         NaN  "
      ]
     },
     "execution_count": 8,
     "metadata": {},
     "output_type": "execute_result"
    }
   ],
   "source": [
    "#Create df copy for cleaning\n",
    "mass_copy = mass_shooting_22.copy()\n",
    "mass_copy.head()"
   ]
  },
  {
   "cell_type": "code",
   "execution_count": 9,
   "id": "5155085c",
   "metadata": {},
   "outputs": [
    {
     "data": {
      "text/html": [
       "<div>\n",
       "<style scoped>\n",
       "    .dataframe tbody tr th:only-of-type {\n",
       "        vertical-align: middle;\n",
       "    }\n",
       "\n",
       "    .dataframe tbody tr th {\n",
       "        vertical-align: top;\n",
       "    }\n",
       "\n",
       "    .dataframe thead th {\n",
       "        text-align: right;\n",
       "    }\n",
       "</style>\n",
       "<table border=\"1\" class=\"dataframe\">\n",
       "  <thead>\n",
       "    <tr style=\"text-align: right;\">\n",
       "      <th></th>\n",
       "      <th>Incident ID</th>\n",
       "      <th>Incident Date</th>\n",
       "      <th>State</th>\n",
       "      <th>City Or County</th>\n",
       "      <th>Address</th>\n",
       "      <th>Killed</th>\n",
       "      <th>Injured</th>\n",
       "      <th>Operations</th>\n",
       "    </tr>\n",
       "  </thead>\n",
       "  <tbody>\n",
       "    <tr>\n",
       "      <th>449</th>\n",
       "      <td>2303337</td>\n",
       "      <td>15-May-22</td>\n",
       "      <td>Texas</td>\n",
       "      <td>Amarillo</td>\n",
       "      <td>1003 N Fillmore St</td>\n",
       "      <td>1</td>\n",
       "      <td>4</td>\n",
       "      <td>NaN</td>\n",
       "    </tr>\n",
       "    <tr>\n",
       "      <th>24</th>\n",
       "      <td>2478061</td>\n",
       "      <td>9-Dec-22</td>\n",
       "      <td>Arizona</td>\n",
       "      <td>Phoenix</td>\n",
       "      <td>S 21st and W Burgess LN</td>\n",
       "      <td>1</td>\n",
       "      <td>3</td>\n",
       "      <td>NaN</td>\n",
       "    </tr>\n",
       "    <tr>\n",
       "      <th>117</th>\n",
       "      <td>2434847</td>\n",
       "      <td>10-Oct-22</td>\n",
       "      <td>California</td>\n",
       "      <td>Delano</td>\n",
       "      <td>County Line Road and Road 136</td>\n",
       "      <td>1</td>\n",
       "      <td>3</td>\n",
       "      <td>NaN</td>\n",
       "    </tr>\n",
       "    <tr>\n",
       "      <th>206</th>\n",
       "      <td>2399839</td>\n",
       "      <td>28-Aug-22</td>\n",
       "      <td>California</td>\n",
       "      <td>Los Angeles</td>\n",
       "      <td>2471 Whittier Blvd</td>\n",
       "      <td>0</td>\n",
       "      <td>6</td>\n",
       "      <td>NaN</td>\n",
       "    </tr>\n",
       "    <tr>\n",
       "      <th>490</th>\n",
       "      <td>2287581</td>\n",
       "      <td>25-Apr-22</td>\n",
       "      <td>Alabama</td>\n",
       "      <td>Birmingham</td>\n",
       "      <td>821 3rd Ave W</td>\n",
       "      <td>1</td>\n",
       "      <td>3</td>\n",
       "      <td>NaN</td>\n",
       "    </tr>\n",
       "    <tr>\n",
       "      <th>126</th>\n",
       "      <td>2434151</td>\n",
       "      <td>8-Oct-22</td>\n",
       "      <td>Missouri</td>\n",
       "      <td>Saint Joseph</td>\n",
       "      <td>302 Illinois Ave</td>\n",
       "      <td>0</td>\n",
       "      <td>4</td>\n",
       "      <td>NaN</td>\n",
       "    </tr>\n",
       "    <tr>\n",
       "      <th>498</th>\n",
       "      <td>2285242</td>\n",
       "      <td>22-Apr-22</td>\n",
       "      <td>Ohio</td>\n",
       "      <td>Cincinnati</td>\n",
       "      <td>Kemper Ln and E McMillan St</td>\n",
       "      <td>0</td>\n",
       "      <td>4</td>\n",
       "      <td>NaN</td>\n",
       "    </tr>\n",
       "    <tr>\n",
       "      <th>211</th>\n",
       "      <td>2398877</td>\n",
       "      <td>27-Aug-22</td>\n",
       "      <td>Kentucky</td>\n",
       "      <td>Lexington</td>\n",
       "      <td>207 Legends Ln</td>\n",
       "      <td>0</td>\n",
       "      <td>7</td>\n",
       "      <td>NaN</td>\n",
       "    </tr>\n",
       "    <tr>\n",
       "      <th>222</th>\n",
       "      <td>2393051</td>\n",
       "      <td>20-Aug-22</td>\n",
       "      <td>North Carolina</td>\n",
       "      <td>Asheville</td>\n",
       "      <td>11 Grove St</td>\n",
       "      <td>0</td>\n",
       "      <td>4</td>\n",
       "      <td>NaN</td>\n",
       "    </tr>\n",
       "    <tr>\n",
       "      <th>171</th>\n",
       "      <td>2412164</td>\n",
       "      <td>11-Sep-22</td>\n",
       "      <td>New Mexico</td>\n",
       "      <td>Santa Fe</td>\n",
       "      <td>Paseo Feliz</td>\n",
       "      <td>0</td>\n",
       "      <td>5</td>\n",
       "      <td>NaN</td>\n",
       "    </tr>\n",
       "    <tr>\n",
       "      <th>616</th>\n",
       "      <td>2223019</td>\n",
       "      <td>30-Jan-22</td>\n",
       "      <td>Georgia</td>\n",
       "      <td>Augusta</td>\n",
       "      <td>2623 Deans Bridge Rd</td>\n",
       "      <td>1</td>\n",
       "      <td>3</td>\n",
       "      <td>NaN</td>\n",
       "    </tr>\n",
       "    <tr>\n",
       "      <th>407</th>\n",
       "      <td>2320673</td>\n",
       "      <td>4-Jun-22</td>\n",
       "      <td>Texas</td>\n",
       "      <td>El Paso (Socorro)</td>\n",
       "      <td>10851 Thunder Rd</td>\n",
       "      <td>0</td>\n",
       "      <td>5</td>\n",
       "      <td>NaN</td>\n",
       "    </tr>\n",
       "    <tr>\n",
       "      <th>292</th>\n",
       "      <td>2362912</td>\n",
       "      <td>18-Jul-22</td>\n",
       "      <td>Georgia</td>\n",
       "      <td>Atlanta</td>\n",
       "      <td>440 Thomasvillle Blvd</td>\n",
       "      <td>0</td>\n",
       "      <td>5</td>\n",
       "      <td>NaN</td>\n",
       "    </tr>\n",
       "    <tr>\n",
       "      <th>415</th>\n",
       "      <td>2318046</td>\n",
       "      <td>31-May-22</td>\n",
       "      <td>Texas</td>\n",
       "      <td>Waco</td>\n",
       "      <td>1900 block of Preston St</td>\n",
       "      <td>0</td>\n",
       "      <td>4</td>\n",
       "      <td>NaN</td>\n",
       "    </tr>\n",
       "    <tr>\n",
       "      <th>438</th>\n",
       "      <td>2308395</td>\n",
       "      <td>21-May-22</td>\n",
       "      <td>Washington</td>\n",
       "      <td>Tacoma</td>\n",
       "      <td>S Yakima Ave and S 56th St</td>\n",
       "      <td>0</td>\n",
       "      <td>4</td>\n",
       "      <td>NaN</td>\n",
       "    </tr>\n",
       "    <tr>\n",
       "      <th>64</th>\n",
       "      <td>2455484</td>\n",
       "      <td>6-Nov-22</td>\n",
       "      <td>Florida</td>\n",
       "      <td>Gainesville</td>\n",
       "      <td>500 SW 2nd Ave</td>\n",
       "      <td>0</td>\n",
       "      <td>4</td>\n",
       "      <td>NaN</td>\n",
       "    </tr>\n",
       "    <tr>\n",
       "      <th>226</th>\n",
       "      <td>2391353</td>\n",
       "      <td>18-Aug-22</td>\n",
       "      <td>Virginia</td>\n",
       "      <td>Norfolk</td>\n",
       "      <td>7433 Fenner St</td>\n",
       "      <td>3</td>\n",
       "      <td>2</td>\n",
       "      <td>NaN</td>\n",
       "    </tr>\n",
       "    <tr>\n",
       "      <th>571</th>\n",
       "      <td>2247828</td>\n",
       "      <td>6-Mar-22</td>\n",
       "      <td>Texas</td>\n",
       "      <td>Lubbock</td>\n",
       "      <td>1800 block of Parkway Dr</td>\n",
       "      <td>0</td>\n",
       "      <td>4</td>\n",
       "      <td>NaN</td>\n",
       "    </tr>\n",
       "    <tr>\n",
       "      <th>229</th>\n",
       "      <td>2398608</td>\n",
       "      <td>16-Aug-22</td>\n",
       "      <td>Michigan</td>\n",
       "      <td>Paw Paw</td>\n",
       "      <td>126 E Michigan Ave</td>\n",
       "      <td>0</td>\n",
       "      <td>4</td>\n",
       "      <td>NaN</td>\n",
       "    </tr>\n",
       "    <tr>\n",
       "      <th>599</th>\n",
       "      <td>2232854</td>\n",
       "      <td>13-Feb-22</td>\n",
       "      <td>Wisconsin</td>\n",
       "      <td>Racine</td>\n",
       "      <td>7th St and Park Ave</td>\n",
       "      <td>1</td>\n",
       "      <td>5</td>\n",
       "      <td>NaN</td>\n",
       "    </tr>\n",
       "  </tbody>\n",
       "</table>\n",
       "</div>"
      ],
      "text/plain": [
       "     Incident ID Incident Date           State     City Or County  \\\n",
       "449      2303337     15-May-22           Texas           Amarillo   \n",
       "24       2478061      9-Dec-22         Arizona            Phoenix   \n",
       "117      2434847     10-Oct-22      California             Delano   \n",
       "206      2399839     28-Aug-22      California        Los Angeles   \n",
       "490      2287581     25-Apr-22         Alabama         Birmingham   \n",
       "126      2434151      8-Oct-22        Missouri       Saint Joseph   \n",
       "498      2285242     22-Apr-22            Ohio         Cincinnati   \n",
       "211      2398877     27-Aug-22        Kentucky          Lexington   \n",
       "222      2393051     20-Aug-22  North Carolina          Asheville   \n",
       "171      2412164     11-Sep-22      New Mexico           Santa Fe   \n",
       "616      2223019     30-Jan-22         Georgia            Augusta   \n",
       "407      2320673      4-Jun-22           Texas  El Paso (Socorro)   \n",
       "292      2362912     18-Jul-22         Georgia            Atlanta   \n",
       "415      2318046     31-May-22           Texas               Waco   \n",
       "438      2308395     21-May-22      Washington             Tacoma   \n",
       "64       2455484      6-Nov-22         Florida        Gainesville   \n",
       "226      2391353     18-Aug-22        Virginia            Norfolk   \n",
       "571      2247828      6-Mar-22           Texas            Lubbock   \n",
       "229      2398608     16-Aug-22        Michigan            Paw Paw   \n",
       "599      2232854     13-Feb-22       Wisconsin             Racine   \n",
       "\n",
       "                           Address  Killed  Injured  Operations  \n",
       "449             1003 N Fillmore St       1        4         NaN  \n",
       "24         S 21st and W Burgess LN       1        3         NaN  \n",
       "117  County Line Road and Road 136       1        3         NaN  \n",
       "206             2471 Whittier Blvd       0        6         NaN  \n",
       "490                  821 3rd Ave W       1        3         NaN  \n",
       "126               302 Illinois Ave       0        4         NaN  \n",
       "498    Kemper Ln and E McMillan St       0        4         NaN  \n",
       "211                 207 Legends Ln       0        7         NaN  \n",
       "222                    11 Grove St       0        4         NaN  \n",
       "171                    Paseo Feliz       0        5         NaN  \n",
       "616           2623 Deans Bridge Rd       1        3         NaN  \n",
       "407               10851 Thunder Rd       0        5         NaN  \n",
       "292          440 Thomasvillle Blvd       0        5         NaN  \n",
       "415       1900 block of Preston St       0        4         NaN  \n",
       "438     S Yakima Ave and S 56th St       0        4         NaN  \n",
       "64                  500 SW 2nd Ave       0        4         NaN  \n",
       "226                 7433 Fenner St       3        2         NaN  \n",
       "571       1800 block of Parkway Dr       0        4         NaN  \n",
       "229             126 E Michigan Ave       0        4         NaN  \n",
       "599            7th St and Park Ave       1        5         NaN  "
      ]
     },
     "execution_count": 9,
     "metadata": {},
     "output_type": "execute_result"
    }
   ],
   "source": [
    "#Renaming columns\n",
    "mass_copy.rename(columns={'# Killed': 'Killed', '# Injured': 'Injured'}, inplace=True)\n",
    "mass_copy.sample(20)"
   ]
  },
  {
   "cell_type": "code",
   "execution_count": 10,
   "id": "c458d6a4",
   "metadata": {},
   "outputs": [
    {
     "data": {
      "text/html": [
       "<div>\n",
       "<style scoped>\n",
       "    .dataframe tbody tr th:only-of-type {\n",
       "        vertical-align: middle;\n",
       "    }\n",
       "\n",
       "    .dataframe tbody tr th {\n",
       "        vertical-align: top;\n",
       "    }\n",
       "\n",
       "    .dataframe thead th {\n",
       "        text-align: right;\n",
       "    }\n",
       "</style>\n",
       "<table border=\"1\" class=\"dataframe\">\n",
       "  <thead>\n",
       "    <tr style=\"text-align: right;\">\n",
       "      <th></th>\n",
       "      <th>Incident ID</th>\n",
       "      <th>Incident Date</th>\n",
       "      <th>State</th>\n",
       "      <th>City Or County</th>\n",
       "      <th>Killed</th>\n",
       "      <th>Injured</th>\n",
       "    </tr>\n",
       "  </thead>\n",
       "  <tbody>\n",
       "    <tr>\n",
       "      <th>338</th>\n",
       "      <td>2349758</td>\n",
       "      <td>4-Jul-22</td>\n",
       "      <td>New York</td>\n",
       "      <td>Corona (Queens)</td>\n",
       "      <td>0</td>\n",
       "      <td>4</td>\n",
       "    </tr>\n",
       "    <tr>\n",
       "      <th>337</th>\n",
       "      <td>2349545</td>\n",
       "      <td>4-Jul-22</td>\n",
       "      <td>Colorado</td>\n",
       "      <td>Denver</td>\n",
       "      <td>1</td>\n",
       "      <td>3</td>\n",
       "    </tr>\n",
       "    <tr>\n",
       "      <th>349</th>\n",
       "      <td>2346406</td>\n",
       "      <td>1-Jul-22</td>\n",
       "      <td>Mississippi</td>\n",
       "      <td>Greenwood</td>\n",
       "      <td>1</td>\n",
       "      <td>7</td>\n",
       "    </tr>\n",
       "    <tr>\n",
       "      <th>245</th>\n",
       "      <td>2381321</td>\n",
       "      <td>7-Aug-22</td>\n",
       "      <td>Georgia</td>\n",
       "      <td>Atlanta</td>\n",
       "      <td>2</td>\n",
       "      <td>4</td>\n",
       "    </tr>\n",
       "    <tr>\n",
       "      <th>224</th>\n",
       "      <td>2392494</td>\n",
       "      <td>19-Aug-22</td>\n",
       "      <td>Illinois</td>\n",
       "      <td>Chicago</td>\n",
       "      <td>1</td>\n",
       "      <td>4</td>\n",
       "    </tr>\n",
       "  </tbody>\n",
       "</table>\n",
       "</div>"
      ],
      "text/plain": [
       "     Incident ID Incident Date        State   City Or County  Killed  Injured\n",
       "338      2349758      4-Jul-22     New York  Corona (Queens)       0        4\n",
       "337      2349545      4-Jul-22     Colorado           Denver       1        3\n",
       "349      2346406      1-Jul-22  Mississippi        Greenwood       1        7\n",
       "245      2381321      7-Aug-22      Georgia          Atlanta       2        4\n",
       "224      2392494     19-Aug-22     Illinois          Chicago       1        4"
      ]
     },
     "execution_count": 10,
     "metadata": {},
     "output_type": "execute_result"
    }
   ],
   "source": [
    "#Drop Columns\n",
    "mass_copy.drop(columns = ['Address', 'Operations'], axis=1, inplace=True)\n",
    "mass_copy.sample(5)"
   ]
  },
  {
   "cell_type": "code",
   "execution_count": 11,
   "id": "7d7d8f83",
   "metadata": {},
   "outputs": [],
   "source": [
    "#Change date from object to datetime\n",
    "from datetime import datetime\n",
    "mass_copy['Incident Date'] = pd.to_datetime(mass_copy['Incident Date'])"
   ]
  },
  {
   "cell_type": "code",
   "execution_count": 12,
   "id": "e7c514cf",
   "metadata": {},
   "outputs": [
    {
     "data": {
      "text/plain": [
       "648"
      ]
     },
     "execution_count": 12,
     "metadata": {},
     "output_type": "execute_result"
    }
   ],
   "source": [
    "#Confirming all incidents are unique, no duplicates\n",
    "mass_copy['Incident ID'].nunique()"
   ]
  },
  {
   "cell_type": "code",
   "execution_count": 13,
   "id": "8e91838a",
   "metadata": {
    "scrolled": false
   },
   "outputs": [
    {
     "name": "stdout",
     "output_type": "stream",
     "text": [
      "<class 'pandas.core.frame.DataFrame'>\n",
      "RangeIndex: 648 entries, 0 to 647\n",
      "Data columns (total 6 columns):\n",
      " #   Column          Non-Null Count  Dtype         \n",
      "---  ------          --------------  -----         \n",
      " 0   Incident ID     648 non-null    int64         \n",
      " 1   Incident Date   648 non-null    datetime64[ns]\n",
      " 2   State           648 non-null    object        \n",
      " 3   City Or County  648 non-null    object        \n",
      " 4   Killed          648 non-null    int64         \n",
      " 5   Injured         648 non-null    int64         \n",
      "dtypes: datetime64[ns](1), int64(3), object(2)\n",
      "memory usage: 30.5+ KB\n"
     ]
    }
   ],
   "source": [
    "#Verifying no null values\n",
    "mass_copy.info()"
   ]
  },
  {
   "cell_type": "markdown",
   "id": "2819e111",
   "metadata": {},
   "source": [
    "### Exploratory Data Analysis\n",
    "\n",
    "-Explore data"
   ]
  },
  {
   "cell_type": "code",
   "execution_count": 14,
   "id": "94255338",
   "metadata": {
    "scrolled": false
   },
   "outputs": [
    {
     "data": {
      "text/plain": [
       "<AxesSubplot:>"
      ]
     },
     "execution_count": 14,
     "metadata": {},
     "output_type": "execute_result"
    },
    {
     "data": {
      "image/png": "[encoded data removed]",
      "text/plain": [
       "<Figure size 640x480 with 1 Axes>"
      ]
     },
     "metadata": {},
     "output_type": "display_data"
    }
   ],
   "source": [
    "#Viewing data by hist\n",
    "mass_copy['Killed'].hist()"
   ]
  },
  {
   "cell_type": "code",
   "execution_count": 15,
   "id": "1c0de102",
   "metadata": {},
   "outputs": [
    {
     "data": {
      "text/plain": [
       "<AxesSubplot:>"
      ]
     },
     "execution_count": 15,
     "metadata": {},
     "output_type": "execute_result"
    },
    {
     "data": {
      "image/png": "[encoded data removed]",
      "text/plain": [
       "<Figure size 640x480 with 1 Axes>"
      ]
     },
     "metadata": {},
     "output_type": "display_data"
    }
   ],
   "source": [
    "#Viewing data by hist\n",
    "mass_copy['Injured'].hist()"
   ]
  },
  {
   "cell_type": "code",
   "execution_count": 16,
   "id": "82dd79ce",
   "metadata": {
    "scrolled": true
   },
   "outputs": [
    {
     "data": {
      "text/plain": [
       "<AxesSubplot:>"
      ]
     },
     "execution_count": 16,
     "metadata": {},
     "output_type": "execute_result"
    },
    {
     "data": {
      "image/png": "[encoded data removed]",
      "text/plain": [
       "<Figure size 640x480 with 1 Axes>"
      ]
     },
     "metadata": {},
     "output_type": "display_data"
    }
   ],
   "source": [
    "#Viewing MS incidents by hist\n",
    "mass_copy['Incident Date'].hist()"
   ]
  },
  {
   "cell_type": "code",
   "execution_count": 17,
   "id": "e4232c5a",
   "metadata": {
    "scrolled": true
   },
   "outputs": [
    {
     "data": {
      "text/html": [
       "<div>\n",
       "<style scoped>\n",
       "    .dataframe tbody tr th:only-of-type {\n",
       "        vertical-align: middle;\n",
       "    }\n",
       "\n",
       "    .dataframe tbody tr th {\n",
       "        vertical-align: top;\n",
       "    }\n",
       "\n",
       "    .dataframe thead th {\n",
       "        text-align: right;\n",
       "    }\n",
       "</style>\n",
       "<table border=\"1\" class=\"dataframe\">\n",
       "  <thead>\n",
       "    <tr style=\"text-align: right;\">\n",
       "      <th></th>\n",
       "      <th>Incident ID</th>\n",
       "      <th>Incident Date</th>\n",
       "      <th>State</th>\n",
       "      <th>City Or County</th>\n",
       "      <th>Killed</th>\n",
       "      <th>Injured</th>\n",
       "      <th>month</th>\n",
       "    </tr>\n",
       "  </thead>\n",
       "  <tbody>\n",
       "    <tr>\n",
       "      <th>0</th>\n",
       "      <td>2491656</td>\n",
       "      <td>2022-12-31</td>\n",
       "      <td>Arizona</td>\n",
       "      <td>Phoenix</td>\n",
       "      <td>0</td>\n",
       "      <td>9</td>\n",
       "      <td>12</td>\n",
       "    </tr>\n",
       "    <tr>\n",
       "      <th>1</th>\n",
       "      <td>2492253</td>\n",
       "      <td>2022-12-31</td>\n",
       "      <td>Alabama</td>\n",
       "      <td>Mobile</td>\n",
       "      <td>1</td>\n",
       "      <td>8</td>\n",
       "      <td>12</td>\n",
       "    </tr>\n",
       "    <tr>\n",
       "      <th>2</th>\n",
       "      <td>2491054</td>\n",
       "      <td>2022-12-30</td>\n",
       "      <td>Tennessee</td>\n",
       "      <td>Memphis</td>\n",
       "      <td>1</td>\n",
       "      <td>3</td>\n",
       "      <td>12</td>\n",
       "    </tr>\n",
       "    <tr>\n",
       "      <th>3</th>\n",
       "      <td>2490925</td>\n",
       "      <td>2022-12-30</td>\n",
       "      <td>Texas</td>\n",
       "      <td>Humble</td>\n",
       "      <td>2</td>\n",
       "      <td>3</td>\n",
       "      <td>12</td>\n",
       "    </tr>\n",
       "    <tr>\n",
       "      <th>4</th>\n",
       "      <td>2489614</td>\n",
       "      <td>2022-12-28</td>\n",
       "      <td>New York</td>\n",
       "      <td>Bronx</td>\n",
       "      <td>1</td>\n",
       "      <td>3</td>\n",
       "      <td>12</td>\n",
       "    </tr>\n",
       "    <tr>\n",
       "      <th>5</th>\n",
       "      <td>2490150</td>\n",
       "      <td>2022-12-28</td>\n",
       "      <td>Texas</td>\n",
       "      <td>Dallas</td>\n",
       "      <td>0</td>\n",
       "      <td>6</td>\n",
       "      <td>12</td>\n",
       "    </tr>\n",
       "    <tr>\n",
       "      <th>6</th>\n",
       "      <td>2488952</td>\n",
       "      <td>2022-12-27</td>\n",
       "      <td>District of Columbia</td>\n",
       "      <td>Washington</td>\n",
       "      <td>0</td>\n",
       "      <td>4</td>\n",
       "      <td>12</td>\n",
       "    </tr>\n",
       "    <tr>\n",
       "      <th>7</th>\n",
       "      <td>2489345</td>\n",
       "      <td>2022-12-27</td>\n",
       "      <td>Ohio</td>\n",
       "      <td>Columbus</td>\n",
       "      <td>0</td>\n",
       "      <td>5</td>\n",
       "      <td>12</td>\n",
       "    </tr>\n",
       "    <tr>\n",
       "      <th>8</th>\n",
       "      <td>2489124</td>\n",
       "      <td>2022-12-27</td>\n",
       "      <td>California</td>\n",
       "      <td>Eureka</td>\n",
       "      <td>2</td>\n",
       "      <td>2</td>\n",
       "      <td>12</td>\n",
       "    </tr>\n",
       "    <tr>\n",
       "      <th>9</th>\n",
       "      <td>2488209</td>\n",
       "      <td>2022-12-26</td>\n",
       "      <td>Louisiana</td>\n",
       "      <td>New Orleans</td>\n",
       "      <td>2</td>\n",
       "      <td>4</td>\n",
       "      <td>12</td>\n",
       "    </tr>\n",
       "  </tbody>\n",
       "</table>\n",
       "</div>"
      ],
      "text/plain": [
       "   Incident ID Incident Date                 State City Or County  Killed  \\\n",
       "0      2491656    2022-12-31               Arizona        Phoenix       0   \n",
       "1      2492253    2022-12-31               Alabama         Mobile       1   \n",
       "2      2491054    2022-12-30             Tennessee        Memphis       1   \n",
       "3      2490925    2022-12-30                 Texas         Humble       2   \n",
       "4      2489614    2022-12-28              New York          Bronx       1   \n",
       "5      2490150    2022-12-28                 Texas         Dallas       0   \n",
       "6      2488952    2022-12-27  District of Columbia     Washington       0   \n",
       "7      2489345    2022-12-27                  Ohio       Columbus       0   \n",
       "8      2489124    2022-12-27            California         Eureka       2   \n",
       "9      2488209    2022-12-26             Louisiana    New Orleans       2   \n",
       "\n",
       "   Injured  month  \n",
       "0        9     12  \n",
       "1        8     12  \n",
       "2        3     12  \n",
       "3        3     12  \n",
       "4        3     12  \n",
       "5        6     12  \n",
       "6        4     12  \n",
       "7        5     12  \n",
       "8        2     12  \n",
       "9        4     12  "
      ]
     },
     "execution_count": 17,
     "metadata": {},
     "output_type": "execute_result"
    }
   ],
   "source": [
    "#Getting month from date\n",
    "mass_copy['month'] = mass_copy['Incident Date'].dt.month\n",
    "mass_copy.head(10)"
   ]
  },
  {
   "cell_type": "code",
   "execution_count": 18,
   "id": "bd098f6e",
   "metadata": {},
   "outputs": [
    {
     "data": {
      "text/plain": [
       "7     89\n",
       "9     64\n",
       "6     64\n",
       "5     64\n",
       "10    62\n",
       "8     62\n",
       "4     57\n",
       "11    43\n",
       "3     42\n",
       "2     36\n",
       "1     34\n",
       "12    31\n",
       "Name: month, dtype: int64"
      ]
     },
     "execution_count": 18,
     "metadata": {},
     "output_type": "execute_result"
    }
   ],
   "source": [
    "#Viewing month counts\n",
    "mass_copy.month.value_counts()"
   ]
  },
  {
   "cell_type": "code",
   "execution_count": 19,
   "id": "7f49891e",
   "metadata": {},
   "outputs": [
    {
     "data": {
      "image/png": "[encoded data removed]",
      "text/plain": [
       "<Figure size 1200x400 with 1 Axes>"
      ]
     },
     "metadata": {},
     "output_type": "display_data"
    }
   ],
   "source": [
    "#Plot MSE timeline\n",
    "fig, axs = plt.subplots(figsize=(12, 4))\n",
    "labels = ['Jan','Feb','Mar','Apr','May','Jun','Jul','Aug','Sep','Oct','Nov','Dec']\n",
    "\n",
    "line = mass_copy.groupby(mass_copy[\"Incident Date\"].dt.month)['month'].value_counts()\n",
    "line.plot()\n",
    "\n",
    "plt.xticks(ticks=[0,1,2,3,4,5,6,7,8,9,10,11], labels=labels)\n",
    "plt.title('Number of Mass Shooting Events by Month in 2022')\n",
    "plt.xlabel(\"Month\"); \n",
    "\n",
    "plt.ylabel(\"Number of Mass Shootings\");"
   ]
  },
  {
   "cell_type": "code",
   "execution_count": 20,
   "id": "3f5b585d",
   "metadata": {
    "scrolled": true
   },
   "outputs": [
    {
     "data": {
      "image/png": "[encoded data removed]",
      "text/plain": [
       "<Figure size 1200x400 with 1 Axes>"
      ]
     },
     "metadata": {},
     "output_type": "display_data"
    }
   ],
   "source": [
    "#Bar graph of MSE per month\n",
    "fig, axs = plt.subplots(figsize=(12, 4))\n",
    "labels = ['Jan','Feb','Mar','Apr','May','Jun','Jul','Aug','Sep','Oct','Nov','Dec']\n",
    "\n",
    "mass_copy.groupby(mass_copy[\"Incident Date\"].dt.month)['month'].value_counts().plot(\n",
    "    kind='bar', rot=0, ax=axs)\n",
    "\n",
    "plt.xticks(ticks=[0,1,2,3,4,5,6,7,8,9,10,11], labels=labels)\n",
    "plt.title('Number of Mass Shooting Events by Month')\n",
    "plt.xlabel(\"Month\"); \n",
    "\n",
    "plt.ylabel(\"Number of Mass Shootings\");"
   ]
  },
  {
   "cell_type": "markdown",
   "id": "1f194f3f",
   "metadata": {},
   "source": [
    "### Add Giffords Law State Grade Levels\n",
    "\n",
    "- Create dict with state grades\n",
    "- Add to df"
   ]
  },
  {
   "cell_type": "code",
   "execution_count": 21,
   "id": "385a2ec3",
   "metadata": {},
   "outputs": [],
   "source": [
    "#Create dict to hold state gun law values\n",
    "#State Gun Law Scorecard obtained from \n",
    "grade_dict = {'A' :['California', 'New Jersey', 'Connecticut', 'Hawaii', 'Illinois', 'Maryland', 'Massachusetts', 'New York'],\n",
    "'B' : ['Colorado', 'Delaware', 'Rhode Island', 'Virginia', 'Washington', 'Oregon', 'Pennsylvania'],\n",
    "'C': ['Michigan', 'Nevada', 'Minnesota', 'New Mexico', 'Florida', 'Nebraska', 'North Carolina', 'Vermont', 'Wisconsin'],\n",
    "'D': ['Ohio', 'Indiana'],\n",
    "'F': ['Alabama', 'Alaska', 'Arkansas', 'Arizona', 'Georgia', 'Idaho', 'Iowa', 'Kansas', 'Kentucky', 'Louisiana', 'Maine', \n",
    "     'Mississippi', 'Missouri', 'Montana', 'New Hampshire', 'North Dakota', 'Oklahoma', 'South Carolina', 'South Dakota', \n",
    "     'Tennessee', 'Texas', 'Utah', 'West Virginia', 'Wyoming']}\n",
    "\n",
    "# all_states = ['California', 'New Jersey', 'Connecticut', 'Hawaii', 'Illinois', 'Maryland', 'Massachusetts', 'New York',\n",
    "#                 'Colorado', 'Delaware', 'Rhode Island', 'Virginia', 'Washington', 'Oregon', 'Pennsylvania',\n",
    "#             'Michigan', 'Nevada', 'Minnesota', 'New Mexico', 'Florida', 'Nebraska', 'North Carolina', 'Vermont', 'Wisconsin',\n",
    "#               'Ohio', 'Indiana','Alabama', 'Alaska', 'Arkansas', 'Arizona', 'Georgia', 'Idaho', 'Iowa', 'Kansas', 'Kentucky', 'Louisiana', 'Maine', \n",
    "#      'Mississippi', 'Missouri', 'Montana', 'New Hampshire', 'North Dakota', 'Oklahoma', 'South Carolina', 'South Dakota', \n",
    "#      'Tennessee', 'Texas', 'Utah', 'West Virginia', 'Wyoming']"
   ]
  },
  {
   "cell_type": "code",
   "execution_count": 22,
   "id": "b8dd7985",
   "metadata": {},
   "outputs": [],
   "source": [
    "#Function to add state grade levels from dict to df\n",
    "def flatten_dict(d):\n",
    "    nd = {}\n",
    "    for k,v in d.items():\n",
    "        # Check if it's a list, if so then iterate through\n",
    "        if ((hasattr(v, '__iter__') and not isinstance(v, str))):\n",
    "            for item in v:\n",
    "                nd[item] = k\n",
    "        else:\n",
    "            nd[v] = k\n",
    "    return nd\n",
    "\n",
    "d = flatten_dict(grade_dict)"
   ]
  },
  {
   "cell_type": "code",
   "execution_count": 23,
   "id": "7b431552",
   "metadata": {},
   "outputs": [],
   "source": [
    "#Adding new column with dict values\n",
    "mass_copy['Grade'] = mass_copy['State'].map(d)"
   ]
  },
  {
   "cell_type": "code",
   "execution_count": 24,
   "id": "19f16087",
   "metadata": {},
   "outputs": [
    {
     "data": {
      "text/html": [
       "<div>\n",
       "<style scoped>\n",
       "    .dataframe tbody tr th:only-of-type {\n",
       "        vertical-align: middle;\n",
       "    }\n",
       "\n",
       "    .dataframe tbody tr th {\n",
       "        vertical-align: top;\n",
       "    }\n",
       "\n",
       "    .dataframe thead th {\n",
       "        text-align: right;\n",
       "    }\n",
       "</style>\n",
       "<table border=\"1\" class=\"dataframe\">\n",
       "  <thead>\n",
       "    <tr style=\"text-align: right;\">\n",
       "      <th></th>\n",
       "      <th>Incident ID</th>\n",
       "      <th>Incident Date</th>\n",
       "      <th>State</th>\n",
       "      <th>City Or County</th>\n",
       "      <th>Killed</th>\n",
       "      <th>Injured</th>\n",
       "      <th>month</th>\n",
       "      <th>Grade</th>\n",
       "    </tr>\n",
       "  </thead>\n",
       "  <tbody>\n",
       "    <tr>\n",
       "      <th>132</th>\n",
       "      <td>2428950</td>\n",
       "      <td>2022-10-02</td>\n",
       "      <td>Tennessee</td>\n",
       "      <td>Nashville</td>\n",
       "      <td>0</td>\n",
       "      <td>4</td>\n",
       "      <td>10</td>\n",
       "      <td>F</td>\n",
       "    </tr>\n",
       "    <tr>\n",
       "      <th>486</th>\n",
       "      <td>2289308</td>\n",
       "      <td>2022-04-27</td>\n",
       "      <td>Louisiana</td>\n",
       "      <td>Opelousas</td>\n",
       "      <td>2</td>\n",
       "      <td>3</td>\n",
       "      <td>4</td>\n",
       "      <td>F</td>\n",
       "    </tr>\n",
       "    <tr>\n",
       "      <th>307</th>\n",
       "      <td>2361490</td>\n",
       "      <td>2022-07-16</td>\n",
       "      <td>Pennsylvania</td>\n",
       "      <td>Philadelphia</td>\n",
       "      <td>0</td>\n",
       "      <td>4</td>\n",
       "      <td>7</td>\n",
       "      <td>B</td>\n",
       "    </tr>\n",
       "    <tr>\n",
       "      <th>75</th>\n",
       "      <td>2450557</td>\n",
       "      <td>2022-10-31</td>\n",
       "      <td>Illinois</td>\n",
       "      <td>East Saint Louis</td>\n",
       "      <td>2</td>\n",
       "      <td>3</td>\n",
       "      <td>10</td>\n",
       "      <td>A</td>\n",
       "    </tr>\n",
       "    <tr>\n",
       "      <th>122</th>\n",
       "      <td>2433539</td>\n",
       "      <td>2022-10-09</td>\n",
       "      <td>Florida</td>\n",
       "      <td>Tampa</td>\n",
       "      <td>1</td>\n",
       "      <td>6</td>\n",
       "      <td>10</td>\n",
       "      <td>C</td>\n",
       "    </tr>\n",
       "    <tr>\n",
       "      <th>12</th>\n",
       "      <td>2485011</td>\n",
       "      <td>2022-12-19</td>\n",
       "      <td>Florida</td>\n",
       "      <td>Lake City</td>\n",
       "      <td>0</td>\n",
       "      <td>5</td>\n",
       "      <td>12</td>\n",
       "      <td>C</td>\n",
       "    </tr>\n",
       "    <tr>\n",
       "      <th>540</th>\n",
       "      <td>2259262</td>\n",
       "      <td>2022-03-21</td>\n",
       "      <td>Connecticut</td>\n",
       "      <td>Waterbury</td>\n",
       "      <td>0</td>\n",
       "      <td>4</td>\n",
       "      <td>3</td>\n",
       "      <td>A</td>\n",
       "    </tr>\n",
       "    <tr>\n",
       "      <th>59</th>\n",
       "      <td>2458086</td>\n",
       "      <td>2022-11-11</td>\n",
       "      <td>New Jersey</td>\n",
       "      <td>Jersey City</td>\n",
       "      <td>0</td>\n",
       "      <td>4</td>\n",
       "      <td>11</td>\n",
       "      <td>A</td>\n",
       "    </tr>\n",
       "    <tr>\n",
       "      <th>501</th>\n",
       "      <td>2283535</td>\n",
       "      <td>2022-04-20</td>\n",
       "      <td>Minnesota</td>\n",
       "      <td>Duluth</td>\n",
       "      <td>5</td>\n",
       "      <td>0</td>\n",
       "      <td>4</td>\n",
       "      <td>C</td>\n",
       "    </tr>\n",
       "    <tr>\n",
       "      <th>378</th>\n",
       "      <td>2333667</td>\n",
       "      <td>2022-06-17</td>\n",
       "      <td>Illinois</td>\n",
       "      <td>Chicago</td>\n",
       "      <td>0</td>\n",
       "      <td>5</td>\n",
       "      <td>6</td>\n",
       "      <td>A</td>\n",
       "    </tr>\n",
       "  </tbody>\n",
       "</table>\n",
       "</div>"
      ],
      "text/plain": [
       "     Incident ID Incident Date         State    City Or County  Killed  \\\n",
       "132      2428950    2022-10-02     Tennessee         Nashville       0   \n",
       "486      2289308    2022-04-27     Louisiana         Opelousas       2   \n",
       "307      2361490    2022-07-16  Pennsylvania      Philadelphia       0   \n",
       "75       2450557    2022-10-31      Illinois  East Saint Louis       2   \n",
       "122      2433539    2022-10-09       Florida             Tampa       1   \n",
       "12       2485011    2022-12-19       Florida         Lake City       0   \n",
       "540      2259262    2022-03-21   Connecticut         Waterbury       0   \n",
       "59       2458086    2022-11-11    New Jersey       Jersey City       0   \n",
       "501      2283535    2022-04-20     Minnesota            Duluth       5   \n",
       "378      2333667    2022-06-17      Illinois           Chicago       0   \n",
       "\n",
       "     Injured  month Grade  \n",
       "132        4     10     F  \n",
       "486        3      4     F  \n",
       "307        4      7     B  \n",
       "75         3     10     A  \n",
       "122        6     10     C  \n",
       "12         5     12     C  \n",
       "540        4      3     A  \n",
       "59         4     11     A  \n",
       "501        0      4     C  \n",
       "378        5      6     A  "
      ]
     },
     "execution_count": 24,
     "metadata": {},
     "output_type": "execute_result"
    }
   ],
   "source": [
    "#Viewing df with new column\n",
    "mass_copy.sample(10)"
   ]
  },
  {
   "cell_type": "code",
   "execution_count": 25,
   "id": "65c00f70",
   "metadata": {},
   "outputs": [
    {
     "data": {
      "text/plain": [
       "9"
      ]
     },
     "execution_count": 25,
     "metadata": {},
     "output_type": "execute_result"
    }
   ],
   "source": [
    "#Rechecking nulls\n",
    "mass_copy['Grade'].isnull().sum()"
   ]
  },
  {
   "cell_type": "code",
   "execution_count": 26,
   "id": "1af7ea73",
   "metadata": {},
   "outputs": [
    {
     "name": "stdout",
     "output_type": "stream",
     "text": [
      "<class 'pandas.core.frame.DataFrame'>\n",
      "RangeIndex: 648 entries, 0 to 647\n",
      "Data columns (total 8 columns):\n",
      " #   Column          Non-Null Count  Dtype         \n",
      "---  ------          --------------  -----         \n",
      " 0   Incident ID     648 non-null    int64         \n",
      " 1   Incident Date   648 non-null    datetime64[ns]\n",
      " 2   State           648 non-null    object        \n",
      " 3   City Or County  648 non-null    object        \n",
      " 4   Killed          648 non-null    int64         \n",
      " 5   Injured         648 non-null    int64         \n",
      " 6   month           648 non-null    int64         \n",
      " 7   Grade           639 non-null    object        \n",
      "dtypes: datetime64[ns](1), int64(4), object(3)\n",
      "memory usage: 40.6+ KB\n"
     ]
    }
   ],
   "source": [
    "mass_copy.info()"
   ]
  },
  {
   "cell_type": "code",
   "execution_count": 27,
   "id": "3a3e5ae1",
   "metadata": {},
   "outputs": [
    {
     "data": {
      "text/html": [
       "<div>\n",
       "<style scoped>\n",
       "    .dataframe tbody tr th:only-of-type {\n",
       "        vertical-align: middle;\n",
       "    }\n",
       "\n",
       "    .dataframe tbody tr th {\n",
       "        vertical-align: top;\n",
       "    }\n",
       "\n",
       "    .dataframe thead th {\n",
       "        text-align: right;\n",
       "    }\n",
       "</style>\n",
       "<table border=\"1\" class=\"dataframe\">\n",
       "  <thead>\n",
       "    <tr style=\"text-align: right;\">\n",
       "      <th></th>\n",
       "      <th>Incident ID</th>\n",
       "      <th>Incident Date</th>\n",
       "      <th>State</th>\n",
       "      <th>City Or County</th>\n",
       "      <th>Killed</th>\n",
       "      <th>Injured</th>\n",
       "      <th>month</th>\n",
       "      <th>Grade</th>\n",
       "    </tr>\n",
       "  </thead>\n",
       "  <tbody>\n",
       "    <tr>\n",
       "      <th>6</th>\n",
       "      <td>2488952</td>\n",
       "      <td>2022-12-27</td>\n",
       "      <td>District of Columbia</td>\n",
       "      <td>Washington</td>\n",
       "      <td>0</td>\n",
       "      <td>4</td>\n",
       "      <td>12</td>\n",
       "      <td>NaN</td>\n",
       "    </tr>\n",
       "    <tr>\n",
       "      <th>130</th>\n",
       "      <td>2431594</td>\n",
       "      <td>2022-10-06</td>\n",
       "      <td>District of Columbia</td>\n",
       "      <td>Washington</td>\n",
       "      <td>1</td>\n",
       "      <td>3</td>\n",
       "      <td>10</td>\n",
       "      <td>NaN</td>\n",
       "    </tr>\n",
       "    <tr>\n",
       "      <th>216</th>\n",
       "      <td>2396536</td>\n",
       "      <td>2022-08-24</td>\n",
       "      <td>District of Columbia</td>\n",
       "      <td>Washington</td>\n",
       "      <td>2</td>\n",
       "      <td>3</td>\n",
       "      <td>8</td>\n",
       "      <td>NaN</td>\n",
       "    </tr>\n",
       "    <tr>\n",
       "      <th>261</th>\n",
       "      <td>2375886</td>\n",
       "      <td>2022-08-01</td>\n",
       "      <td>District of Columbia</td>\n",
       "      <td>Washington</td>\n",
       "      <td>1</td>\n",
       "      <td>5</td>\n",
       "      <td>8</td>\n",
       "      <td>NaN</td>\n",
       "    </tr>\n",
       "    <tr>\n",
       "      <th>302</th>\n",
       "      <td>2361532</td>\n",
       "      <td>2022-07-16</td>\n",
       "      <td>District of Columbia</td>\n",
       "      <td>Washington</td>\n",
       "      <td>1</td>\n",
       "      <td>3</td>\n",
       "      <td>7</td>\n",
       "      <td>NaN</td>\n",
       "    </tr>\n",
       "    <tr>\n",
       "      <th>370</th>\n",
       "      <td>2334920</td>\n",
       "      <td>2022-06-19</td>\n",
       "      <td>District of Columbia</td>\n",
       "      <td>Washington</td>\n",
       "      <td>1</td>\n",
       "      <td>3</td>\n",
       "      <td>6</td>\n",
       "      <td>NaN</td>\n",
       "    </tr>\n",
       "    <tr>\n",
       "      <th>499</th>\n",
       "      <td>2284819</td>\n",
       "      <td>2022-04-22</td>\n",
       "      <td>District of Columbia</td>\n",
       "      <td>Washington</td>\n",
       "      <td>1</td>\n",
       "      <td>4</td>\n",
       "      <td>4</td>\n",
       "      <td>NaN</td>\n",
       "    </tr>\n",
       "    <tr>\n",
       "      <th>523</th>\n",
       "      <td>2274855</td>\n",
       "      <td>2022-04-09</td>\n",
       "      <td>District of Columbia</td>\n",
       "      <td>Washington</td>\n",
       "      <td>0</td>\n",
       "      <td>4</td>\n",
       "      <td>4</td>\n",
       "      <td>NaN</td>\n",
       "    </tr>\n",
       "    <tr>\n",
       "      <th>620</th>\n",
       "      <td>2220985</td>\n",
       "      <td>2022-01-27</td>\n",
       "      <td>District of Columbia</td>\n",
       "      <td>Washington</td>\n",
       "      <td>1</td>\n",
       "      <td>4</td>\n",
       "      <td>1</td>\n",
       "      <td>NaN</td>\n",
       "    </tr>\n",
       "  </tbody>\n",
       "</table>\n",
       "</div>"
      ],
      "text/plain": [
       "     Incident ID Incident Date                 State City Or County  Killed  \\\n",
       "6        2488952    2022-12-27  District of Columbia     Washington       0   \n",
       "130      2431594    2022-10-06  District of Columbia     Washington       1   \n",
       "216      2396536    2022-08-24  District of Columbia     Washington       2   \n",
       "261      2375886    2022-08-01  District of Columbia     Washington       1   \n",
       "302      2361532    2022-07-16  District of Columbia     Washington       1   \n",
       "370      2334920    2022-06-19  District of Columbia     Washington       1   \n",
       "499      2284819    2022-04-22  District of Columbia     Washington       1   \n",
       "523      2274855    2022-04-09  District of Columbia     Washington       0   \n",
       "620      2220985    2022-01-27  District of Columbia     Washington       1   \n",
       "\n",
       "     Injured  month Grade  \n",
       "6          4     12   NaN  \n",
       "130        3     10   NaN  \n",
       "216        3      8   NaN  \n",
       "261        5      8   NaN  \n",
       "302        3      7   NaN  \n",
       "370        3      6   NaN  \n",
       "499        4      4   NaN  \n",
       "523        4      4   NaN  \n",
       "620        4      1   NaN  "
      ]
     },
     "execution_count": 27,
     "metadata": {},
     "output_type": "execute_result"
    }
   ],
   "source": [
    "# creating bool series True for NaN values\n",
    "bool_series = pd.isnull(mass_copy[\"Grade\"])\n",
    "   \n",
    "# filtering data\n",
    "# displaying data only with Gender = NaN\n",
    "mass_copy[bool_series]"
   ]
  },
  {
   "cell_type": "code",
   "execution_count": 28,
   "id": "0376bfde",
   "metadata": {},
   "outputs": [],
   "source": [
    "#Giffords Law does not have a rating for Washington D.C. because it is a district and not a state\n",
    "#Remove info from D.C null values\n",
    "mass_copy.dropna(inplace=True)"
   ]
  },
  {
   "cell_type": "code",
   "execution_count": 29,
   "id": "16bf1ea9",
   "metadata": {},
   "outputs": [
    {
     "name": "stdout",
     "output_type": "stream",
     "text": [
      "<class 'pandas.core.frame.DataFrame'>\n",
      "Int64Index: 639 entries, 0 to 647\n",
      "Data columns (total 8 columns):\n",
      " #   Column          Non-Null Count  Dtype         \n",
      "---  ------          --------------  -----         \n",
      " 0   Incident ID     639 non-null    int64         \n",
      " 1   Incident Date   639 non-null    datetime64[ns]\n",
      " 2   State           639 non-null    object        \n",
      " 3   City Or County  639 non-null    object        \n",
      " 4   Killed          639 non-null    int64         \n",
      " 5   Injured         639 non-null    int64         \n",
      " 6   month           639 non-null    int64         \n",
      " 7   Grade           639 non-null    object        \n",
      "dtypes: datetime64[ns](1), int64(4), object(3)\n",
      "memory usage: 44.9+ KB\n"
     ]
    }
   ],
   "source": [
    "#Verifying no null values\n",
    "mass_copy.info()"
   ]
  },
  {
   "cell_type": "code",
   "execution_count": 30,
   "id": "7c33dbde",
   "metadata": {
    "scrolled": false
   },
   "outputs": [
    {
     "data": {
      "text/plain": [
       "F    228\n",
       "A    172\n",
       "C    119\n",
       "B     86\n",
       "D     34\n",
       "Name: Grade, dtype: int64"
      ]
     },
     "execution_count": 30,
     "metadata": {},
     "output_type": "execute_result"
    }
   ],
   "source": [
    "#Checking Grade Value counts\n",
    "mass_copy['Grade'].value_counts()"
   ]
  },
  {
   "cell_type": "code",
   "execution_count": 31,
   "id": "78c4b733",
   "metadata": {
    "scrolled": false
   },
   "outputs": [
    {
     "data": {
      "text/plain": [
       "F    0.356808\n",
       "A    0.269171\n",
       "C    0.186228\n",
       "B    0.134585\n",
       "D    0.053208\n",
       "Name: Grade, dtype: float64"
      ]
     },
     "execution_count": 31,
     "metadata": {},
     "output_type": "execute_result"
    }
   ],
   "source": [
    "#Proportion of mass shooting occur based on state grade\n",
    "mass_copy['Grade'].value_counts()/mass_copy.shape[0]"
   ]
  },
  {
   "cell_type": "code",
   "execution_count": 32,
   "id": "bbe6abd2",
   "metadata": {},
   "outputs": [],
   "source": [
    "#Setting proportion variables \n",
    "prop_A = (172 / mass_copy.shape[0]) * 100\n",
    "prop_B = (86 /mass_copy.shape[0]) *100\n",
    "prop_C = (119 /mass_copy.shape[0]) *100\n",
    "prop_D = (34 /mass_copy.shape[0])*100\n",
    "prop_F = (228 /mass_copy.shape[0])*100"
   ]
  },
  {
   "cell_type": "code",
   "execution_count": 33,
   "id": "fc3b96ee",
   "metadata": {
    "scrolled": false
   },
   "outputs": [
    {
     "name": "stdout",
     "output_type": "stream",
     "text": [
      "The proportion of a mass shooting occuring in states with Grade A: 26.917057902973397\n",
      "The proportion of a mass shooting occuring in states with Grade B: 13.458528951486699\n",
      "The proportion of a mass shooting occuring in states with Grade C: 18.622848200312987\n",
      "The proportion of a mass shooting occuring in states with Grade D: 5.320813771517996\n",
      "The proportion of a mass shooting occuring in states with Grade F: 35.68075117370892\n"
     ]
    }
   ],
   "source": [
    "print('The proportion of a mass shooting occuring in states with Grade A: {}'.format(prop_A))\n",
    "print('The proportion of a mass shooting occuring in states with Grade B: {}'.format(prop_B))\n",
    "print('The proportion of a mass shooting occuring in states with Grade C: {}'.format(prop_C))\n",
    "print('The proportion of a mass shooting occuring in states with Grade D: {}'.format(prop_D))\n",
    "print('The proportion of a mass shooting occuring in states with Grade F: {}'.format(prop_F))"
   ]
  },
  {
   "cell_type": "code",
   "execution_count": 34,
   "id": "605b478a",
   "metadata": {},
   "outputs": [
    {
     "data": {
      "image/png": "[encoded data removed]",
      "text/plain": [
       "<Figure size 640x480 with 1 Axes>"
      ]
     },
     "metadata": {},
     "output_type": "display_data"
    }
   ],
   "source": [
    "#Pie Chart depicting MSE prop by Grade\n",
    "data = np.array([prop_A, prop_B, prop_C, prop_D, prop_F])\n",
    "label = ['A', 'B', 'C', 'D', 'F']\n",
    " \n",
    "plt.pie(data, labels=label, autopct='%1.1f%%', startangle=90)\n",
    "plt.title('Proportion of MSE by Grade')\n",
    "#plt.axis('equal')\n",
    "plt.show()"
   ]
  },
  {
   "cell_type": "code",
   "execution_count": 35,
   "id": "c8848176",
   "metadata": {
    "scrolled": false
   },
   "outputs": [],
   "source": [
    "#Creating dict to hold total mass shootings per state\n",
    "total_incidents = {'Illinois': 57, 'California': 50, 'Texas': 50, 'Pennsylvania': 34, 'Florida': 31, 'New York': 31,\n",
    "                   'Georgia': 29, 'Louisiana': 28, 'Michigan': 25, 'North Carolina': 21, 'Virginia': 20, 'South Carolina': 20,\n",
    "                   'Ohio': 19, 'Maryland': 19, 'Tennessee': 17, 'Alabama': 16, 'Wisconsin': 16, 'Indiana': 15, 'Mississippi': 14,\n",
    "                   'Missouri': 14, 'Colorado': 13, 'Arizona': 13, 'Minnesota': 12, 'Washington': 11, 'New Jersey': 9,\n",
    "                   'Kentucky': 9, 'Oklahoma': 8, 'Oregon': 6, 'Nebraska': 5, 'Nevada': 5, 'Arkansas': 5, 'New Mexico': 4,\n",
    "                   'Massachusetts': 3, 'Connecticut': 3, 'Kansas': 3, 'Delaware': 2, 'Iowa': 2}\n",
    "\n",
    "\n"
   ]
  },
  {
   "cell_type": "code",
   "execution_count": 36,
   "id": "eef23457",
   "metadata": {},
   "outputs": [],
   "source": [
    "#Mapping total mass shootings per state into new column\n",
    "mass_copy['total_incidents'] = mass_copy['State'].map(total_incidents)\n"
   ]
  },
  {
   "cell_type": "code",
   "execution_count": 37,
   "id": "99edd8c1",
   "metadata": {
    "scrolled": true
   },
   "outputs": [
    {
     "data": {
      "text/html": [
       "<div>\n",
       "<style scoped>\n",
       "    .dataframe tbody tr th:only-of-type {\n",
       "        vertical-align: middle;\n",
       "    }\n",
       "\n",
       "    .dataframe tbody tr th {\n",
       "        vertical-align: top;\n",
       "    }\n",
       "\n",
       "    .dataframe thead th {\n",
       "        text-align: right;\n",
       "    }\n",
       "</style>\n",
       "<table border=\"1\" class=\"dataframe\">\n",
       "  <thead>\n",
       "    <tr style=\"text-align: right;\">\n",
       "      <th></th>\n",
       "      <th>Incident ID</th>\n",
       "      <th>Incident Date</th>\n",
       "      <th>State</th>\n",
       "      <th>City Or County</th>\n",
       "      <th>Killed</th>\n",
       "      <th>Injured</th>\n",
       "      <th>month</th>\n",
       "      <th>Grade</th>\n",
       "      <th>total_incidents</th>\n",
       "    </tr>\n",
       "  </thead>\n",
       "  <tbody>\n",
       "    <tr>\n",
       "      <th>0</th>\n",
       "      <td>2491656</td>\n",
       "      <td>2022-12-31</td>\n",
       "      <td>Arizona</td>\n",
       "      <td>Phoenix</td>\n",
       "      <td>0</td>\n",
       "      <td>9</td>\n",
       "      <td>12</td>\n",
       "      <td>F</td>\n",
       "      <td>13</td>\n",
       "    </tr>\n",
       "    <tr>\n",
       "      <th>1</th>\n",
       "      <td>2492253</td>\n",
       "      <td>2022-12-31</td>\n",
       "      <td>Alabama</td>\n",
       "      <td>Mobile</td>\n",
       "      <td>1</td>\n",
       "      <td>8</td>\n",
       "      <td>12</td>\n",
       "      <td>F</td>\n",
       "      <td>16</td>\n",
       "    </tr>\n",
       "    <tr>\n",
       "      <th>2</th>\n",
       "      <td>2491054</td>\n",
       "      <td>2022-12-30</td>\n",
       "      <td>Tennessee</td>\n",
       "      <td>Memphis</td>\n",
       "      <td>1</td>\n",
       "      <td>3</td>\n",
       "      <td>12</td>\n",
       "      <td>F</td>\n",
       "      <td>17</td>\n",
       "    </tr>\n",
       "    <tr>\n",
       "      <th>3</th>\n",
       "      <td>2490925</td>\n",
       "      <td>2022-12-30</td>\n",
       "      <td>Texas</td>\n",
       "      <td>Humble</td>\n",
       "      <td>2</td>\n",
       "      <td>3</td>\n",
       "      <td>12</td>\n",
       "      <td>F</td>\n",
       "      <td>50</td>\n",
       "    </tr>\n",
       "    <tr>\n",
       "      <th>4</th>\n",
       "      <td>2489614</td>\n",
       "      <td>2022-12-28</td>\n",
       "      <td>New York</td>\n",
       "      <td>Bronx</td>\n",
       "      <td>1</td>\n",
       "      <td>3</td>\n",
       "      <td>12</td>\n",
       "      <td>A</td>\n",
       "      <td>31</td>\n",
       "    </tr>\n",
       "  </tbody>\n",
       "</table>\n",
       "</div>"
      ],
      "text/plain": [
       "   Incident ID Incident Date      State City Or County  Killed  Injured  \\\n",
       "0      2491656    2022-12-31    Arizona        Phoenix       0        9   \n",
       "1      2492253    2022-12-31    Alabama         Mobile       1        8   \n",
       "2      2491054    2022-12-30  Tennessee        Memphis       1        3   \n",
       "3      2490925    2022-12-30      Texas         Humble       2        3   \n",
       "4      2489614    2022-12-28   New York          Bronx       1        3   \n",
       "\n",
       "   month Grade  total_incidents  \n",
       "0     12     F               13  \n",
       "1     12     F               16  \n",
       "2     12     F               17  \n",
       "3     12     F               50  \n",
       "4     12     A               31  "
      ]
     },
     "execution_count": 37,
     "metadata": {},
     "output_type": "execute_result"
    }
   ],
   "source": [
    "#Verify column added\n",
    "mass_copy.head()"
   ]
  },
  {
   "cell_type": "code",
   "execution_count": 38,
   "id": "41a57ecd",
   "metadata": {},
   "outputs": [
    {
     "data": {
      "text/plain": [
       "(639, 9)"
      ]
     },
     "execution_count": 38,
     "metadata": {},
     "output_type": "execute_result"
    }
   ],
   "source": [
    "#Recheck df\n",
    "mass_copy.shape"
   ]
  },
  {
   "cell_type": "code",
   "execution_count": 39,
   "id": "13da5738",
   "metadata": {
    "scrolled": false
   },
   "outputs": [
    {
     "data": {
      "image/png": "[encoded data removed]",
      "text/plain": [
       "<Figure size 640x480 with 1 Axes>"
      ]
     },
     "metadata": {},
     "output_type": "display_data"
    }
   ],
   "source": [
    "#Plot MSE by State Grade\n",
    "mass_copy['Grade'].sort_values().hist()\n",
    "plt.title('Number of Mass Shooting Incidents by State Grade')\n",
    "plt.xlabel('State Gun Laws by Grade')\n",
    "plt.ylabel('Number of Mass Shooting Incidents');"
   ]
  },
  {
   "cell_type": "code",
   "execution_count": 40,
   "id": "e72afa89",
   "metadata": {},
   "outputs": [],
   "source": [
    "#Creating dict of total killed by state\n",
    "total_killed = {'Texas': 90, 'California': 62, 'Illinois': 51, 'Virginia': 37, 'Georgia': 32, 'Maryland': 31, 'Colorado': 23,\n",
    "                'Florida': 23, 'New York': 23, 'Pennsylvania': 23, 'Oklahoma': 23, 'Wisconsin': 20, 'Michigan': 19,\n",
    "                'Indiana': 19, 'Ohio': 19, 'North Carolina': 17, 'Arizona': 16, 'Mississippi': 16, 'South Carolina': 15,\n",
    "                'Louisiana': 14, 'Tennessee': 14, 'Missouri': 14, 'Alabama': 11, 'Minnesota': 11, 'Arkansas': 8, \n",
    "                'Kentucky': 7, 'Nebraska': 6, 'Oregon': 6, 'Washington': 4, 'New Jersey': 3, 'Kansas': 3, 'Iowa': 3,\n",
    "                'New Mexico': 2, 'Nevada': 2, 'Connecticut': 1, 'Massachusetts': 0, 'Delaware': 0}"
   ]
  },
  {
   "cell_type": "code",
   "execution_count": 41,
   "id": "a5408723",
   "metadata": {
    "scrolled": true
   },
   "outputs": [
    {
     "data": {
      "text/html": [
       "<div>\n",
       "<style scoped>\n",
       "    .dataframe tbody tr th:only-of-type {\n",
       "        vertical-align: middle;\n",
       "    }\n",
       "\n",
       "    .dataframe tbody tr th {\n",
       "        vertical-align: top;\n",
       "    }\n",
       "\n",
       "    .dataframe thead th {\n",
       "        text-align: right;\n",
       "    }\n",
       "</style>\n",
       "<table border=\"1\" class=\"dataframe\">\n",
       "  <thead>\n",
       "    <tr style=\"text-align: right;\">\n",
       "      <th></th>\n",
       "      <th>Incident ID</th>\n",
       "      <th>Incident Date</th>\n",
       "      <th>State</th>\n",
       "      <th>City Or County</th>\n",
       "      <th>Killed</th>\n",
       "      <th>Injured</th>\n",
       "      <th>month</th>\n",
       "      <th>Grade</th>\n",
       "      <th>total_incidents</th>\n",
       "      <th>total_killed</th>\n",
       "    </tr>\n",
       "  </thead>\n",
       "  <tbody>\n",
       "    <tr>\n",
       "      <th>0</th>\n",
       "      <td>2491656</td>\n",
       "      <td>2022-12-31</td>\n",
       "      <td>Arizona</td>\n",
       "      <td>Phoenix</td>\n",
       "      <td>0</td>\n",
       "      <td>9</td>\n",
       "      <td>12</td>\n",
       "      <td>F</td>\n",
       "      <td>13</td>\n",
       "      <td>16</td>\n",
       "    </tr>\n",
       "    <tr>\n",
       "      <th>1</th>\n",
       "      <td>2492253</td>\n",
       "      <td>2022-12-31</td>\n",
       "      <td>Alabama</td>\n",
       "      <td>Mobile</td>\n",
       "      <td>1</td>\n",
       "      <td>8</td>\n",
       "      <td>12</td>\n",
       "      <td>F</td>\n",
       "      <td>16</td>\n",
       "      <td>11</td>\n",
       "    </tr>\n",
       "    <tr>\n",
       "      <th>2</th>\n",
       "      <td>2491054</td>\n",
       "      <td>2022-12-30</td>\n",
       "      <td>Tennessee</td>\n",
       "      <td>Memphis</td>\n",
       "      <td>1</td>\n",
       "      <td>3</td>\n",
       "      <td>12</td>\n",
       "      <td>F</td>\n",
       "      <td>17</td>\n",
       "      <td>14</td>\n",
       "    </tr>\n",
       "    <tr>\n",
       "      <th>3</th>\n",
       "      <td>2490925</td>\n",
       "      <td>2022-12-30</td>\n",
       "      <td>Texas</td>\n",
       "      <td>Humble</td>\n",
       "      <td>2</td>\n",
       "      <td>3</td>\n",
       "      <td>12</td>\n",
       "      <td>F</td>\n",
       "      <td>50</td>\n",
       "      <td>90</td>\n",
       "    </tr>\n",
       "    <tr>\n",
       "      <th>4</th>\n",
       "      <td>2489614</td>\n",
       "      <td>2022-12-28</td>\n",
       "      <td>New York</td>\n",
       "      <td>Bronx</td>\n",
       "      <td>1</td>\n",
       "      <td>3</td>\n",
       "      <td>12</td>\n",
       "      <td>A</td>\n",
       "      <td>31</td>\n",
       "      <td>23</td>\n",
       "    </tr>\n",
       "  </tbody>\n",
       "</table>\n",
       "</div>"
      ],
      "text/plain": [
       "   Incident ID Incident Date      State City Or County  Killed  Injured  \\\n",
       "0      2491656    2022-12-31    Arizona        Phoenix       0        9   \n",
       "1      2492253    2022-12-31    Alabama         Mobile       1        8   \n",
       "2      2491054    2022-12-30  Tennessee        Memphis       1        3   \n",
       "3      2490925    2022-12-30      Texas         Humble       2        3   \n",
       "4      2489614    2022-12-28   New York          Bronx       1        3   \n",
       "\n",
       "   month Grade  total_incidents  total_killed  \n",
       "0     12     F               13            16  \n",
       "1     12     F               16            11  \n",
       "2     12     F               17            14  \n",
       "3     12     F               50            90  \n",
       "4     12     A               31            23  "
      ]
     },
     "execution_count": 41,
     "metadata": {},
     "output_type": "execute_result"
    }
   ],
   "source": [
    "#Mapping total killed per state into new column\n",
    "mass_copy['total_killed'] = mass_copy['State'].map(total_killed)\n",
    "mass_copy.head()"
   ]
  },
  {
   "cell_type": "code",
   "execution_count": 42,
   "id": "55762540",
   "metadata": {},
   "outputs": [
    {
     "data": {
      "text/plain": [
       "<AxesSubplot:>"
      ]
     },
     "execution_count": 42,
     "metadata": {},
     "output_type": "execute_result"
    },
    {
     "data": {
      "image/png": "[encoded data removed]",
      "text/plain": [
       "<Figure size 640x480 with 1 Axes>"
      ]
     },
     "metadata": {},
     "output_type": "display_data"
    }
   ],
   "source": [
    "#Viewing total killed\n",
    "mass_copy['total_killed'].hist()"
   ]
  },
  {
   "cell_type": "code",
   "execution_count": 43,
   "id": "da4ee5e7",
   "metadata": {
    "scrolled": true
   },
   "outputs": [
    {
     "data": {
      "text/plain": [
       "State\n",
       "Illinois          57\n",
       "California        50\n",
       "Texas             50\n",
       "Pennsylvania      34\n",
       "Florida           31\n",
       "New York          31\n",
       "Georgia           29\n",
       "Louisiana         28\n",
       "Michigan          25\n",
       "North Carolina    21\n",
       "Virginia          20\n",
       "South Carolina    20\n",
       "Ohio              19\n",
       "Maryland          19\n",
       "Tennessee         17\n",
       "Alabama           16\n",
       "Wisconsin         16\n",
       "Indiana           15\n",
       "Mississippi       14\n",
       "Missouri          14\n",
       "Colorado          13\n",
       "Arizona           13\n",
       "Minnesota         12\n",
       "Washington        11\n",
       "New Jersey         9\n",
       "Kentucky           9\n",
       "Oklahoma           8\n",
       "Oregon             6\n",
       "Nebraska           5\n",
       "Nevada             5\n",
       "Arkansas           5\n",
       "New Mexico         4\n",
       "Massachusetts      3\n",
       "Connecticut        3\n",
       "Kansas             3\n",
       "Delaware           2\n",
       "Iowa               2\n",
       "Name: Incident ID, dtype: int64"
      ]
     },
     "execution_count": 43,
     "metadata": {},
     "output_type": "execute_result"
    }
   ],
   "source": [
    "# Sum number of mass shooting incidents by state\n",
    "max_state_incidents = mass_copy.groupby('State')['Incident ID'].count().sort_values(ascending=False)\n",
    "max_state_incidents"
   ]
  },
  {
   "cell_type": "code",
   "execution_count": 44,
   "id": "05d6602a",
   "metadata": {},
   "outputs": [
    {
     "data": {
      "text/plain": [
       "<AxesSubplot:>"
      ]
     },
     "execution_count": 44,
     "metadata": {},
     "output_type": "execute_result"
    },
    {
     "data": {
      "image/png": "[encoded data removed]",
      "text/plain": [
       "<Figure size 640x480 with 1 Axes>"
      ]
     },
     "metadata": {},
     "output_type": "display_data"
    }
   ],
   "source": [
    "max_state_incidents.hist()"
   ]
  },
  {
   "cell_type": "code",
   "execution_count": 45,
   "id": "e492e0e5",
   "metadata": {},
   "outputs": [
    {
     "data": {
      "text/plain": [
       "State\n",
       "Texas             90\n",
       "California        62\n",
       "Illinois          51\n",
       "Virginia          37\n",
       "Georgia           32\n",
       "Maryland          31\n",
       "Colorado          23\n",
       "Florida           23\n",
       "New York          23\n",
       "Pennsylvania      23\n",
       "Oklahoma          23\n",
       "Wisconsin         20\n",
       "Michigan          19\n",
       "Indiana           19\n",
       "Ohio              19\n",
       "North Carolina    17\n",
       "Arizona           16\n",
       "Mississippi       16\n",
       "South Carolina    15\n",
       "Louisiana         14\n",
       "Tennessee         14\n",
       "Missouri          14\n",
       "Alabama           11\n",
       "Minnesota         11\n",
       "Arkansas           8\n",
       "Kentucky           7\n",
       "Nebraska           6\n",
       "Oregon             6\n",
       "Washington         4\n",
       "New Jersey         3\n",
       "Kansas             3\n",
       "Iowa               3\n",
       "New Mexico         2\n",
       "Nevada             2\n",
       "Connecticut        1\n",
       "Massachusetts      0\n",
       "Delaware           0\n",
       "Name: Killed, dtype: int64"
      ]
     },
     "execution_count": 45,
     "metadata": {},
     "output_type": "execute_result"
    }
   ],
   "source": [
    "#Number killed by state\n",
    "state_killed = mass_copy.groupby('State')['Killed'].sum().sort_values(ascending=False)\n",
    "state_killed"
   ]
  },
  {
   "cell_type": "code",
   "execution_count": 46,
   "id": "8de756cd",
   "metadata": {},
   "outputs": [
    {
     "data": {
      "text/plain": [
       "<AxesSubplot:>"
      ]
     },
     "execution_count": 46,
     "metadata": {},
     "output_type": "execute_result"
    },
    {
     "data": {
      "image/png": "[encoded data removed]",
      "text/plain": [
       "<Figure size 640x480 with 1 Axes>"
      ]
     },
     "metadata": {},
     "output_type": "display_data"
    }
   ],
   "source": [
    "state_killed.hist()"
   ]
  },
  {
   "cell_type": "code",
   "execution_count": 47,
   "id": "6e10e99b",
   "metadata": {
    "scrolled": true
   },
   "outputs": [
    {
     "data": {
      "text/plain": [
       "State           Grade\n",
       "Illinois        A        254\n",
       "Texas           F        200\n",
       "California      A        192\n",
       "Pennsylvania    B        146\n",
       "Louisiana       F        138\n",
       "Florida         C        129\n",
       "New York        A        129\n",
       "Georgia         F        109\n",
       "Michigan        C        100\n",
       "South Carolina  F         93\n",
       "North Carolina  C         88\n",
       "Ohio            D         76\n",
       "Virginia        B         75\n",
       "Tennessee       F         72\n",
       "Alabama         F         69\n",
       "Wisconsin       C         68\n",
       "Arizona         F         67\n",
       "Missouri        F         60\n",
       "Indiana         D         58\n",
       "Colorado        B         57\n",
       "Mississippi     F         57\n",
       "Maryland        A         53\n",
       "Washington      B         49\n",
       "Minnesota       C         43\n",
       "New Jersey      A         40\n",
       "Kentucky        F         39\n",
       "Nevada          C         36\n",
       "Arkansas        F         36\n",
       "Oregon          B         24\n",
       "Oklahoma        F         19\n",
       "Nebraska        C         18\n",
       "New Mexico      C         17\n",
       "Massachusetts   A         14\n",
       "Iowa            F         13\n",
       "Kansas          F         12\n",
       "Connecticut     A         11\n",
       "Delaware        B          8\n",
       "Name: Injured, dtype: int64"
      ]
     },
     "execution_count": 47,
     "metadata": {},
     "output_type": "execute_result"
    }
   ],
   "source": [
    "#Total number injured per state in 2022\n",
    "state_injured = mass_copy.groupby(['State','Grade'])['Injured'].sum().sort_values(ascending=False)\n",
    "state_injured"
   ]
  },
  {
   "cell_type": "code",
   "execution_count": 48,
   "id": "36b4cf48",
   "metadata": {},
   "outputs": [],
   "source": [
    "#Creating dict to add to df\n",
    "total_injured = {'Illinois': 254, 'Texas': 200, 'California': 192, 'Pennsylvania': 146, 'Louisiana': 138, 'Florida': 129,\n",
    "                 'New York': 129, 'Georgia': 109, 'Michigan': 100, 'South Carolina': 93, 'North Carolina': 88, 'Ohio': 76,\n",
    "                 'Virginia': 75, 'Tennessee': 72, 'Alabama': 69, 'Wisconsin': 68, 'Arizona': 67, 'Missouri': 60, 'Indiana': 58,\n",
    "                 'Colorado': 57, 'Mississippi': 57, 'Maryland': 53, 'Washington': 49, 'Minnesota': 43, 'New Jersey': 40,\n",
    "                 'Kentucky': 39, 'Nevada': 36, 'Arkansas': 36, 'Oregon': 24, 'Oklahoma': 19, 'Nebraska': 18, 'New Mexico': 17,\n",
    "                 'Massachusetts': 14, 'Iowa': 13, 'Kansas': 12, 'Connecticut': 11, 'Delaware': 8}"
   ]
  },
  {
   "cell_type": "code",
   "execution_count": 49,
   "id": "26d10fba",
   "metadata": {},
   "outputs": [
    {
     "data": {
      "text/html": [
       "<div>\n",
       "<style scoped>\n",
       "    .dataframe tbody tr th:only-of-type {\n",
       "        vertical-align: middle;\n",
       "    }\n",
       "\n",
       "    .dataframe tbody tr th {\n",
       "        vertical-align: top;\n",
       "    }\n",
       "\n",
       "    .dataframe thead th {\n",
       "        text-align: right;\n",
       "    }\n",
       "</style>\n",
       "<table border=\"1\" class=\"dataframe\">\n",
       "  <thead>\n",
       "    <tr style=\"text-align: right;\">\n",
       "      <th></th>\n",
       "      <th>Incident ID</th>\n",
       "      <th>Incident Date</th>\n",
       "      <th>State</th>\n",
       "      <th>City Or County</th>\n",
       "      <th>Killed</th>\n",
       "      <th>Injured</th>\n",
       "      <th>month</th>\n",
       "      <th>Grade</th>\n",
       "      <th>total_incidents</th>\n",
       "      <th>total_killed</th>\n",
       "      <th>total_injured</th>\n",
       "    </tr>\n",
       "  </thead>\n",
       "  <tbody>\n",
       "    <tr>\n",
       "      <th>0</th>\n",
       "      <td>2491656</td>\n",
       "      <td>2022-12-31</td>\n",
       "      <td>Arizona</td>\n",
       "      <td>Phoenix</td>\n",
       "      <td>0</td>\n",
       "      <td>9</td>\n",
       "      <td>12</td>\n",
       "      <td>F</td>\n",
       "      <td>13</td>\n",
       "      <td>16</td>\n",
       "      <td>67</td>\n",
       "    </tr>\n",
       "    <tr>\n",
       "      <th>1</th>\n",
       "      <td>2492253</td>\n",
       "      <td>2022-12-31</td>\n",
       "      <td>Alabama</td>\n",
       "      <td>Mobile</td>\n",
       "      <td>1</td>\n",
       "      <td>8</td>\n",
       "      <td>12</td>\n",
       "      <td>F</td>\n",
       "      <td>16</td>\n",
       "      <td>11</td>\n",
       "      <td>69</td>\n",
       "    </tr>\n",
       "    <tr>\n",
       "      <th>2</th>\n",
       "      <td>2491054</td>\n",
       "      <td>2022-12-30</td>\n",
       "      <td>Tennessee</td>\n",
       "      <td>Memphis</td>\n",
       "      <td>1</td>\n",
       "      <td>3</td>\n",
       "      <td>12</td>\n",
       "      <td>F</td>\n",
       "      <td>17</td>\n",
       "      <td>14</td>\n",
       "      <td>72</td>\n",
       "    </tr>\n",
       "    <tr>\n",
       "      <th>3</th>\n",
       "      <td>2490925</td>\n",
       "      <td>2022-12-30</td>\n",
       "      <td>Texas</td>\n",
       "      <td>Humble</td>\n",
       "      <td>2</td>\n",
       "      <td>3</td>\n",
       "      <td>12</td>\n",
       "      <td>F</td>\n",
       "      <td>50</td>\n",
       "      <td>90</td>\n",
       "      <td>200</td>\n",
       "    </tr>\n",
       "    <tr>\n",
       "      <th>4</th>\n",
       "      <td>2489614</td>\n",
       "      <td>2022-12-28</td>\n",
       "      <td>New York</td>\n",
       "      <td>Bronx</td>\n",
       "      <td>1</td>\n",
       "      <td>3</td>\n",
       "      <td>12</td>\n",
       "      <td>A</td>\n",
       "      <td>31</td>\n",
       "      <td>23</td>\n",
       "      <td>129</td>\n",
       "    </tr>\n",
       "  </tbody>\n",
       "</table>\n",
       "</div>"
      ],
      "text/plain": [
       "   Incident ID Incident Date      State City Or County  Killed  Injured  \\\n",
       "0      2491656    2022-12-31    Arizona        Phoenix       0        9   \n",
       "1      2492253    2022-12-31    Alabama         Mobile       1        8   \n",
       "2      2491054    2022-12-30  Tennessee        Memphis       1        3   \n",
       "3      2490925    2022-12-30      Texas         Humble       2        3   \n",
       "4      2489614    2022-12-28   New York          Bronx       1        3   \n",
       "\n",
       "   month Grade  total_incidents  total_killed  total_injured  \n",
       "0     12     F               13            16             67  \n",
       "1     12     F               16            11             69  \n",
       "2     12     F               17            14             72  \n",
       "3     12     F               50            90            200  \n",
       "4     12     A               31            23            129  "
      ]
     },
     "execution_count": 49,
     "metadata": {},
     "output_type": "execute_result"
    }
   ],
   "source": [
    "#Mapping total killed per state into new column\n",
    "mass_copy['total_injured'] = mass_copy['State'].map(total_injured)\n",
    "mass_copy.head()"
   ]
  },
  {
   "cell_type": "code",
   "execution_count": 50,
   "id": "9449615e",
   "metadata": {
    "scrolled": true
   },
   "outputs": [
    {
     "data": {
      "text/plain": [
       "<AxesSubplot:>"
      ]
     },
     "execution_count": 50,
     "metadata": {},
     "output_type": "execute_result"
    },
    {
     "data": {
      "image/png": "[encoded data removed]",
      "text/plain": [
       "<Figure size 640x480 with 1 Axes>"
      ]
     },
     "metadata": {},
     "output_type": "display_data"
    }
   ],
   "source": [
    "mass_copy['total_incidents'].hist()"
   ]
  },
  {
   "cell_type": "code",
   "execution_count": 51,
   "id": "c32a314c",
   "metadata": {},
   "outputs": [],
   "source": [
    "#Create dict to hold state gun law values\n",
    "#Use to SPLIT df into Strict V Weak\n",
    "grade_dict = {'A' :['California', 'New Jersey', 'Connecticut', 'Hawaii', 'Illinois', 'Maryland', 'Massachusetts', 'New York'],\n",
    "'B' : ['Colorado', 'Delaware', 'Rhode Island', 'Virginia', 'Washington', 'Oregon', 'Pennsylvania'],\n",
    "'C+': ['Michigan', 'Nevada', 'Minnesota'],\n",
    "'C': ['New Mexico'],\n",
    "'C-': ['Florida', 'Nebraska', 'North Carolina', 'Vermont', 'Wisconsin'],\n",
    "'D': ['Ohio', 'Indiana'],\n",
    "'F': ['Alabama', 'Alaska', 'Arkansas', 'Arizona', 'Georgia', 'Idaho', 'Iowa', 'Kansas', 'Kentucky', 'Louisiana', 'Maine', \n",
    "     'Mississippi', 'Missouri', 'Montana', 'New Hampshire', 'North Dakota', 'Oklahoma', 'South Carolina', 'South Dakota', \n",
    "     'Tennessee', 'Texas', 'Utah', 'West Virginia', 'Wyoming']}"
   ]
  },
  {
   "cell_type": "code",
   "execution_count": 52,
   "id": "5cf056dc",
   "metadata": {
    "scrolled": false
   },
   "outputs": [],
   "source": [
    "#Create copy for analysis\n",
    "state_totals_df = mass_copy[['State', 'total_incidents', 'total_killed', 'total_injured']].copy()\n",
    "state_mse = mass_copy[['State', 'Grade', 'total_incidents', 'total_killed', 'total_injured']].copy()"
   ]
  },
  {
   "cell_type": "code",
   "execution_count": 53,
   "id": "cb736830",
   "metadata": {},
   "outputs": [],
   "source": [
    "#Recalling function to split 'C' group\n",
    "d = flatten_dict(grade_dict)"
   ]
  },
  {
   "cell_type": "code",
   "execution_count": 54,
   "id": "371c47f2",
   "metadata": {},
   "outputs": [
    {
     "data": {
      "text/html": [
       "<div>\n",
       "<style scoped>\n",
       "    .dataframe tbody tr th:only-of-type {\n",
       "        vertical-align: middle;\n",
       "    }\n",
       "\n",
       "    .dataframe tbody tr th {\n",
       "        vertical-align: top;\n",
       "    }\n",
       "\n",
       "    .dataframe thead th {\n",
       "        text-align: right;\n",
       "    }\n",
       "</style>\n",
       "<table border=\"1\" class=\"dataframe\">\n",
       "  <thead>\n",
       "    <tr style=\"text-align: right;\">\n",
       "      <th></th>\n",
       "      <th>State</th>\n",
       "      <th>total_incidents</th>\n",
       "      <th>total_killed</th>\n",
       "      <th>total_injured</th>\n",
       "      <th>Grade</th>\n",
       "    </tr>\n",
       "  </thead>\n",
       "  <tbody>\n",
       "    <tr>\n",
       "      <th>0</th>\n",
       "      <td>Arizona</td>\n",
       "      <td>13</td>\n",
       "      <td>16</td>\n",
       "      <td>67</td>\n",
       "      <td>F</td>\n",
       "    </tr>\n",
       "    <tr>\n",
       "      <th>1</th>\n",
       "      <td>Alabama</td>\n",
       "      <td>16</td>\n",
       "      <td>11</td>\n",
       "      <td>69</td>\n",
       "      <td>F</td>\n",
       "    </tr>\n",
       "    <tr>\n",
       "      <th>2</th>\n",
       "      <td>Tennessee</td>\n",
       "      <td>17</td>\n",
       "      <td>14</td>\n",
       "      <td>72</td>\n",
       "      <td>F</td>\n",
       "    </tr>\n",
       "    <tr>\n",
       "      <th>3</th>\n",
       "      <td>Texas</td>\n",
       "      <td>50</td>\n",
       "      <td>90</td>\n",
       "      <td>200</td>\n",
       "      <td>F</td>\n",
       "    </tr>\n",
       "    <tr>\n",
       "      <th>4</th>\n",
       "      <td>New York</td>\n",
       "      <td>31</td>\n",
       "      <td>23</td>\n",
       "      <td>129</td>\n",
       "      <td>A</td>\n",
       "    </tr>\n",
       "    <tr>\n",
       "      <th>...</th>\n",
       "      <td>...</td>\n",
       "      <td>...</td>\n",
       "      <td>...</td>\n",
       "      <td>...</td>\n",
       "      <td>...</td>\n",
       "    </tr>\n",
       "    <tr>\n",
       "      <th>643</th>\n",
       "      <td>Wisconsin</td>\n",
       "      <td>16</td>\n",
       "      <td>20</td>\n",
       "      <td>68</td>\n",
       "      <td>C-</td>\n",
       "    </tr>\n",
       "    <tr>\n",
       "      <th>644</th>\n",
       "      <td>Illinois</td>\n",
       "      <td>57</td>\n",
       "      <td>51</td>\n",
       "      <td>254</td>\n",
       "      <td>A</td>\n",
       "    </tr>\n",
       "    <tr>\n",
       "      <th>645</th>\n",
       "      <td>South Carolina</td>\n",
       "      <td>20</td>\n",
       "      <td>15</td>\n",
       "      <td>93</td>\n",
       "      <td>F</td>\n",
       "    </tr>\n",
       "    <tr>\n",
       "      <th>646</th>\n",
       "      <td>Indiana</td>\n",
       "      <td>15</td>\n",
       "      <td>19</td>\n",
       "      <td>58</td>\n",
       "      <td>D</td>\n",
       "    </tr>\n",
       "    <tr>\n",
       "      <th>647</th>\n",
       "      <td>Colorado</td>\n",
       "      <td>13</td>\n",
       "      <td>23</td>\n",
       "      <td>57</td>\n",
       "      <td>B</td>\n",
       "    </tr>\n",
       "  </tbody>\n",
       "</table>\n",
       "<p>639 rows × 5 columns</p>\n",
       "</div>"
      ],
      "text/plain": [
       "              State  total_incidents  total_killed  total_injured Grade\n",
       "0           Arizona               13            16             67     F\n",
       "1           Alabama               16            11             69     F\n",
       "2         Tennessee               17            14             72     F\n",
       "3             Texas               50            90            200     F\n",
       "4          New York               31            23            129     A\n",
       "..              ...              ...           ...            ...   ...\n",
       "643       Wisconsin               16            20             68    C-\n",
       "644        Illinois               57            51            254     A\n",
       "645  South Carolina               20            15             93     F\n",
       "646         Indiana               15            19             58     D\n",
       "647        Colorado               13            23             57     B\n",
       "\n",
       "[639 rows x 5 columns]"
      ]
     },
     "execution_count": 54,
     "metadata": {},
     "output_type": "execute_result"
    }
   ],
   "source": [
    "#Adding new column with dict values\n",
    "state_totals_df['Grade'] = state_totals_df['State'].map(d)\n",
    "state_totals_df\n"
   ]
  },
  {
   "cell_type": "code",
   "execution_count": 55,
   "id": "43c416aa",
   "metadata": {},
   "outputs": [],
   "source": [
    "#Dropping duplicates to see how many states are in each Grade\n",
    "state_totals_df.drop_duplicates(keep='first', inplace=True)\n",
    "state_mse.drop_duplicates(keep='first', inplace=True)"
   ]
  },
  {
   "cell_type": "code",
   "execution_count": 56,
   "id": "65d837f3",
   "metadata": {},
   "outputs": [
    {
     "name": "stdout",
     "output_type": "stream",
     "text": [
      "<class 'pandas.core.frame.DataFrame'>\n",
      "Int64Index: 37 entries, 0 to 518\n",
      "Data columns (total 5 columns):\n",
      " #   Column           Non-Null Count  Dtype \n",
      "---  ------           --------------  ----- \n",
      " 0   State            37 non-null     object\n",
      " 1   total_incidents  37 non-null     int64 \n",
      " 2   total_killed     37 non-null     int64 \n",
      " 3   total_injured    37 non-null     int64 \n",
      " 4   Grade            37 non-null     object\n",
      "dtypes: int64(3), object(2)\n",
      "memory usage: 1.7+ KB\n"
     ]
    }
   ],
   "source": [
    "#DF with duplicates removed\n",
    "state_totals_df.info()"
   ]
  },
  {
   "cell_type": "code",
   "execution_count": 57,
   "id": "d9cf0756",
   "metadata": {
    "scrolled": false
   },
   "outputs": [
    {
     "data": {
      "text/plain": [
       "F    228\n",
       "A    172\n",
       "C    119\n",
       "B     86\n",
       "D     34\n",
       "Name: Grade, dtype: int64"
      ]
     },
     "execution_count": 57,
     "metadata": {},
     "output_type": "execute_result"
    }
   ],
   "source": [
    "#Total number of MSE by Grade\n",
    "mass_copy.Grade.value_counts()"
   ]
  },
  {
   "cell_type": "code",
   "execution_count": 58,
   "id": "57f3b0f4",
   "metadata": {},
   "outputs": [
    {
     "data": {
      "text/plain": [
       "F     14\n",
       "A      7\n",
       "B      6\n",
       "C-     4\n",
       "C+     3\n",
       "D      2\n",
       "C      1\n",
       "Name: Grade, dtype: int64"
      ]
     },
     "execution_count": 58,
     "metadata": {},
     "output_type": "execute_result"
    }
   ],
   "source": [
    "#Total states with MSE by Grade\n",
    "state_totals_df.Grade.value_counts()"
   ]
  },
  {
   "cell_type": "code",
   "execution_count": 59,
   "id": "f037c0e2",
   "metadata": {
    "scrolled": false
   },
   "outputs": [
    {
     "data": {
      "text/html": [
       "<div>\n",
       "<style scoped>\n",
       "    .dataframe tbody tr th:only-of-type {\n",
       "        vertical-align: middle;\n",
       "    }\n",
       "\n",
       "    .dataframe tbody tr th {\n",
       "        vertical-align: top;\n",
       "    }\n",
       "\n",
       "    .dataframe thead th {\n",
       "        text-align: right;\n",
       "    }\n",
       "</style>\n",
       "<table border=\"1\" class=\"dataframe\">\n",
       "  <thead>\n",
       "    <tr style=\"text-align: right;\">\n",
       "      <th></th>\n",
       "      <th>State</th>\n",
       "      <th>total_incidents</th>\n",
       "      <th>total_killed</th>\n",
       "      <th>total_injured</th>\n",
       "      <th>Grade</th>\n",
       "    </tr>\n",
       "  </thead>\n",
       "  <tbody>\n",
       "    <tr>\n",
       "      <th>0</th>\n",
       "      <td>Arizona</td>\n",
       "      <td>13</td>\n",
       "      <td>16</td>\n",
       "      <td>67</td>\n",
       "      <td>F</td>\n",
       "    </tr>\n",
       "    <tr>\n",
       "      <th>1</th>\n",
       "      <td>Alabama</td>\n",
       "      <td>16</td>\n",
       "      <td>11</td>\n",
       "      <td>69</td>\n",
       "      <td>F</td>\n",
       "    </tr>\n",
       "    <tr>\n",
       "      <th>2</th>\n",
       "      <td>Tennessee</td>\n",
       "      <td>17</td>\n",
       "      <td>14</td>\n",
       "      <td>72</td>\n",
       "      <td>F</td>\n",
       "    </tr>\n",
       "    <tr>\n",
       "      <th>3</th>\n",
       "      <td>Texas</td>\n",
       "      <td>50</td>\n",
       "      <td>90</td>\n",
       "      <td>200</td>\n",
       "      <td>F</td>\n",
       "    </tr>\n",
       "    <tr>\n",
       "      <th>9</th>\n",
       "      <td>Louisiana</td>\n",
       "      <td>28</td>\n",
       "      <td>14</td>\n",
       "      <td>138</td>\n",
       "      <td>F</td>\n",
       "    </tr>\n",
       "    <tr>\n",
       "      <th>10</th>\n",
       "      <td>Mississippi</td>\n",
       "      <td>14</td>\n",
       "      <td>16</td>\n",
       "      <td>57</td>\n",
       "      <td>F</td>\n",
       "    </tr>\n",
       "    <tr>\n",
       "      <th>11</th>\n",
       "      <td>Kansas</td>\n",
       "      <td>3</td>\n",
       "      <td>3</td>\n",
       "      <td>12</td>\n",
       "      <td>F</td>\n",
       "    </tr>\n",
       "    <tr>\n",
       "      <th>14</th>\n",
       "      <td>Oklahoma</td>\n",
       "      <td>8</td>\n",
       "      <td>23</td>\n",
       "      <td>19</td>\n",
       "      <td>F</td>\n",
       "    </tr>\n",
       "    <tr>\n",
       "      <th>15</th>\n",
       "      <td>Georgia</td>\n",
       "      <td>29</td>\n",
       "      <td>32</td>\n",
       "      <td>109</td>\n",
       "      <td>F</td>\n",
       "    </tr>\n",
       "    <tr>\n",
       "      <th>81</th>\n",
       "      <td>South Carolina</td>\n",
       "      <td>20</td>\n",
       "      <td>15</td>\n",
       "      <td>93</td>\n",
       "      <td>F</td>\n",
       "    </tr>\n",
       "    <tr>\n",
       "      <th>89</th>\n",
       "      <td>Missouri</td>\n",
       "      <td>14</td>\n",
       "      <td>14</td>\n",
       "      <td>60</td>\n",
       "      <td>F</td>\n",
       "    </tr>\n",
       "    <tr>\n",
       "      <th>121</th>\n",
       "      <td>Arkansas</td>\n",
       "      <td>5</td>\n",
       "      <td>8</td>\n",
       "      <td>36</td>\n",
       "      <td>F</td>\n",
       "    </tr>\n",
       "    <tr>\n",
       "      <th>129</th>\n",
       "      <td>Kentucky</td>\n",
       "      <td>9</td>\n",
       "      <td>7</td>\n",
       "      <td>39</td>\n",
       "      <td>F</td>\n",
       "    </tr>\n",
       "    <tr>\n",
       "      <th>518</th>\n",
       "      <td>Iowa</td>\n",
       "      <td>2</td>\n",
       "      <td>3</td>\n",
       "      <td>13</td>\n",
       "      <td>F</td>\n",
       "    </tr>\n",
       "  </tbody>\n",
       "</table>\n",
       "</div>"
      ],
      "text/plain": [
       "              State  total_incidents  total_killed  total_injured Grade\n",
       "0           Arizona               13            16             67     F\n",
       "1           Alabama               16            11             69     F\n",
       "2         Tennessee               17            14             72     F\n",
       "3             Texas               50            90            200     F\n",
       "9         Louisiana               28            14            138     F\n",
       "10      Mississippi               14            16             57     F\n",
       "11           Kansas                3             3             12     F\n",
       "14         Oklahoma                8            23             19     F\n",
       "15          Georgia               29            32            109     F\n",
       "81   South Carolina               20            15             93     F\n",
       "89         Missouri               14            14             60     F\n",
       "121        Arkansas                5             8             36     F\n",
       "129        Kentucky                9             7             39     F\n",
       "518            Iowa                2             3             13     F"
      ]
     },
     "execution_count": 59,
     "metadata": {},
     "output_type": "execute_result"
    }
   ],
   "source": [
    "#Viewing totals by Grade\n",
    "state_totals_df.query('Grade == \"F\"')"
   ]
  },
  {
   "cell_type": "code",
   "execution_count": 60,
   "id": "bedb8930",
   "metadata": {
    "scrolled": false
   },
   "outputs": [
    {
     "data": {
      "text/html": [
       "<div>\n",
       "<style scoped>\n",
       "    .dataframe tbody tr th:only-of-type {\n",
       "        vertical-align: middle;\n",
       "    }\n",
       "\n",
       "    .dataframe tbody tr th {\n",
       "        vertical-align: top;\n",
       "    }\n",
       "\n",
       "    .dataframe thead th {\n",
       "        text-align: right;\n",
       "    }\n",
       "</style>\n",
       "<table border=\"1\" class=\"dataframe\">\n",
       "  <thead>\n",
       "    <tr style=\"text-align: right;\">\n",
       "      <th></th>\n",
       "      <th>State</th>\n",
       "      <th>Grade</th>\n",
       "      <th>total_incidents</th>\n",
       "      <th>total_killed</th>\n",
       "      <th>total_injured</th>\n",
       "    </tr>\n",
       "  </thead>\n",
       "  <tbody>\n",
       "    <tr>\n",
       "      <th>0</th>\n",
       "      <td>Arizona</td>\n",
       "      <td>F</td>\n",
       "      <td>13</td>\n",
       "      <td>16</td>\n",
       "      <td>67</td>\n",
       "    </tr>\n",
       "    <tr>\n",
       "      <th>1</th>\n",
       "      <td>Alabama</td>\n",
       "      <td>F</td>\n",
       "      <td>16</td>\n",
       "      <td>11</td>\n",
       "      <td>69</td>\n",
       "    </tr>\n",
       "    <tr>\n",
       "      <th>2</th>\n",
       "      <td>Tennessee</td>\n",
       "      <td>F</td>\n",
       "      <td>17</td>\n",
       "      <td>14</td>\n",
       "      <td>72</td>\n",
       "    </tr>\n",
       "    <tr>\n",
       "      <th>3</th>\n",
       "      <td>Texas</td>\n",
       "      <td>F</td>\n",
       "      <td>50</td>\n",
       "      <td>90</td>\n",
       "      <td>200</td>\n",
       "    </tr>\n",
       "    <tr>\n",
       "      <th>4</th>\n",
       "      <td>New York</td>\n",
       "      <td>A</td>\n",
       "      <td>31</td>\n",
       "      <td>23</td>\n",
       "      <td>129</td>\n",
       "    </tr>\n",
       "  </tbody>\n",
       "</table>\n",
       "</div>"
      ],
      "text/plain": [
       "       State Grade  total_incidents  total_killed  total_injured\n",
       "0    Arizona     F               13            16             67\n",
       "1    Alabama     F               16            11             69\n",
       "2  Tennessee     F               17            14             72\n",
       "3      Texas     F               50            90            200\n",
       "4   New York     A               31            23            129"
      ]
     },
     "execution_count": 60,
     "metadata": {},
     "output_type": "execute_result"
    }
   ],
   "source": [
    "#Viewing df\n",
    "state_mse.head()"
   ]
  },
  {
   "cell_type": "code",
   "execution_count": 61,
   "id": "c924b516",
   "metadata": {
    "scrolled": false
   },
   "outputs": [
    {
     "data": {
      "image/png": "[encoded data removed]",
      "text/plain": [
       "<Figure size 1000x500 with 1 Axes>"
      ]
     },
     "metadata": {},
     "output_type": "display_data"
    }
   ],
   "source": [
    "#Plotting MSE totals by State\n",
    "state_mse.groupby('State')['total_incidents'].max().sort_values(ascending=False).plot(kind='bar', figsize=(10,5))\n",
    "plt.xlabel('State')\n",
    "plt.ylabel('Number of Mass Shooting Events')\n",
    "plt.title('Mass Shootings By State');"
   ]
  },
  {
   "cell_type": "code",
   "execution_count": 62,
   "id": "f3b1eabc",
   "metadata": {},
   "outputs": [],
   "source": [
    "#Function to determine state MSE totals by Grade\n",
    "def grade_mse(object):\n",
    "    grade = state_mse[state_mse['Grade'] == object]\n",
    "    grade_mse = grade.groupby('State')['total_incidents'].max().sort_values(ascending=False)\n",
    "    return grade_mse"
   ]
  },
  {
   "cell_type": "code",
   "execution_count": 63,
   "id": "bc7944a9",
   "metadata": {
    "scrolled": false
   },
   "outputs": [
    {
     "data": {
      "image/png": "[encoded data removed]",
      "text/plain": [
       "<Figure size 1000x500 with 1 Axes>"
      ]
     },
     "metadata": {},
     "output_type": "display_data"
    }
   ],
   "source": [
    "#Plotting MSE Grade A\n",
    "df = grade_mse('A')\n",
    "ax = df.plot.barh(figsize=(10, 5))\n",
    "#fig = plt.figure(figsize=(10, 5))\n",
    "ax.bar_label(ax.containers[0])\n",
    "\n",
    "plt.ylabel('Grade A');"
   ]
  },
  {
   "cell_type": "code",
   "execution_count": 64,
   "id": "56473760",
   "metadata": {},
   "outputs": [
    {
     "data": {
      "image/png": "[encoded data removed]",
      "text/plain": [
       "<Figure size 1000x500 with 1 Axes>"
      ]
     },
     "metadata": {},
     "output_type": "display_data"
    }
   ],
   "source": [
    "#Plotting MSE Grade B\n",
    "df = grade_mse('B')\n",
    "ax = df.plot.barh(figsize=(10, 5))\n",
    "\n",
    "ax.bar_label(ax.containers[0])\n",
    "plt.ylabel('Grade B');"
   ]
  },
  {
   "cell_type": "code",
   "execution_count": 65,
   "id": "1daab8a2",
   "metadata": {},
   "outputs": [
    {
     "data": {
      "image/png": "[encoded data removed]",
      "text/plain": [
       "<Figure size 1000x500 with 1 Axes>"
      ]
     },
     "metadata": {},
     "output_type": "display_data"
    }
   ],
   "source": [
    "#Plotting MSE Grade C\n",
    "df = grade_mse('C')\n",
    "ax = df.plot.barh(figsize=(10, 5))\n",
    "\n",
    "ax.bar_label(ax.containers[0])\n",
    "plt.ylabel('Grade C');"
   ]
  },
  {
   "cell_type": "code",
   "execution_count": 66,
   "id": "c2afc40f",
   "metadata": {},
   "outputs": [
    {
     "data": {
      "image/png": "[encoded data removed]",
      "text/plain": [
       "<Figure size 1000x500 with 1 Axes>"
      ]
     },
     "metadata": {},
     "output_type": "display_data"
    }
   ],
   "source": [
    "#Plotting MSE Grade D\n",
    "df = grade_mse('D')\n",
    "ax = df.plot.barh(figsize=(10, 5))\n",
    "\n",
    "ax.bar_label(ax.containers[0])\n",
    "plt.ylabel('Grade D');"
   ]
  },
  {
   "cell_type": "code",
   "execution_count": 67,
   "id": "345908c4",
   "metadata": {
    "scrolled": true
   },
   "outputs": [
    {
     "data": {
      "image/png": "[encoded data removed]",
      "text/plain": [
       "<Figure size 1000x500 with 1 Axes>"
      ]
     },
     "metadata": {},
     "output_type": "display_data"
    }
   ],
   "source": [
    "#Plotting MSE Grade F\n",
    "df = grade_mse('F')\n",
    "ax = df.plot.barh(figsize=(10, 5), width=0.5)\n",
    "\n",
    "ax.bar_label(ax.containers[0])\n",
    "plt.ylabel('Grade F');"
   ]
  },
  {
   "cell_type": "code",
   "execution_count": 68,
   "id": "1019f98a",
   "metadata": {},
   "outputs": [],
   "source": [
    "#Function to determine state total injured by Grade\n",
    "def grade_mse(object):\n",
    "    grade = state_mse[state_mse['Grade'] == object]\n",
    "    grade_mse = grade.groupby('State')['total_injured'].max().sort_values(ascending=False)\n",
    "    return grade_mse"
   ]
  },
  {
   "cell_type": "code",
   "execution_count": 69,
   "id": "47e83a02",
   "metadata": {},
   "outputs": [
    {
     "data": {
      "text/plain": [
       "State\n",
       "Illinois         254\n",
       "California       192\n",
       "New York         129\n",
       "Maryland          53\n",
       "New Jersey        40\n",
       "Massachusetts     14\n",
       "Connecticut       11\n",
       "Name: total_injured, dtype: int64"
      ]
     },
     "execution_count": 69,
     "metadata": {},
     "output_type": "execute_result"
    }
   ],
   "source": [
    "grade_mse('A')"
   ]
  },
  {
   "cell_type": "code",
   "execution_count": 70,
   "id": "9c7f3c17",
   "metadata": {},
   "outputs": [
    {
     "data": {
      "text/plain": [
       "State\n",
       "Pennsylvania    146\n",
       "Virginia         75\n",
       "Colorado         57\n",
       "Washington       49\n",
       "Oregon           24\n",
       "Delaware          8\n",
       "Name: total_injured, dtype: int64"
      ]
     },
     "execution_count": 70,
     "metadata": {},
     "output_type": "execute_result"
    }
   ],
   "source": [
    "grade_mse('B')"
   ]
  },
  {
   "cell_type": "code",
   "execution_count": 71,
   "id": "95d23f38",
   "metadata": {},
   "outputs": [
    {
     "data": {
      "text/plain": [
       "State\n",
       "Florida           129\n",
       "Michigan          100\n",
       "North Carolina     88\n",
       "Wisconsin          68\n",
       "Minnesota          43\n",
       "Nevada             36\n",
       "Nebraska           18\n",
       "New Mexico         17\n",
       "Name: total_injured, dtype: int64"
      ]
     },
     "execution_count": 71,
     "metadata": {},
     "output_type": "execute_result"
    }
   ],
   "source": [
    "grade_mse('C')"
   ]
  },
  {
   "cell_type": "code",
   "execution_count": 72,
   "id": "73054b93",
   "metadata": {},
   "outputs": [
    {
     "data": {
      "text/plain": [
       "State\n",
       "Ohio       76\n",
       "Indiana    58\n",
       "Name: total_injured, dtype: int64"
      ]
     },
     "execution_count": 72,
     "metadata": {},
     "output_type": "execute_result"
    }
   ],
   "source": [
    "grade_mse('D')"
   ]
  },
  {
   "cell_type": "code",
   "execution_count": 73,
   "id": "de5144e3",
   "metadata": {},
   "outputs": [
    {
     "data": {
      "text/plain": [
       "State\n",
       "Texas             200\n",
       "Louisiana         138\n",
       "Georgia           109\n",
       "South Carolina     93\n",
       "Tennessee          72\n",
       "Alabama            69\n",
       "Arizona            67\n",
       "Missouri           60\n",
       "Mississippi        57\n",
       "Kentucky           39\n",
       "Arkansas           36\n",
       "Oklahoma           19\n",
       "Iowa               13\n",
       "Kansas             12\n",
       "Name: total_injured, dtype: int64"
      ]
     },
     "execution_count": 73,
     "metadata": {},
     "output_type": "execute_result"
    }
   ],
   "source": [
    "grade_mse('F')"
   ]
  },
  {
   "cell_type": "markdown",
   "id": "d057ac65",
   "metadata": {},
   "source": [
    "### Performing Data Analysis\n",
    "\n",
    "- Perform ANOVA on 5 groups\n",
    "- Split dataset into 2 groups\n",
    "- Perform T-test"
   ]
  },
  {
   "cell_type": "code",
   "execution_count": 74,
   "id": "1de6787c",
   "metadata": {},
   "outputs": [],
   "source": [
    "#Make copies of df to test on\n",
    "t_test_df = state_totals_df.copy()\n",
    "anova_test_df = mass_copy.copy()"
   ]
  },
  {
   "cell_type": "code",
   "execution_count": 75,
   "id": "8ab3323e",
   "metadata": {},
   "outputs": [
    {
     "name": "stdout",
     "output_type": "stream",
     "text": [
      "<class 'pandas.core.frame.DataFrame'>\n",
      "Int64Index: 639 entries, 0 to 647\n",
      "Data columns (total 11 columns):\n",
      " #   Column           Non-Null Count  Dtype         \n",
      "---  ------           --------------  -----         \n",
      " 0   Incident ID      639 non-null    int64         \n",
      " 1   Incident Date    639 non-null    datetime64[ns]\n",
      " 2   State            639 non-null    object        \n",
      " 3   City Or County   639 non-null    object        \n",
      " 4   Killed           639 non-null    int64         \n",
      " 5   Injured          639 non-null    int64         \n",
      " 6   month            639 non-null    int64         \n",
      " 7   Grade            639 non-null    object        \n",
      " 8   total_incidents  639 non-null    int64         \n",
      " 9   total_killed     639 non-null    int64         \n",
      " 10  total_injured    639 non-null    int64         \n",
      "dtypes: datetime64[ns](1), int64(7), object(3)\n",
      "memory usage: 59.9+ KB\n"
     ]
    }
   ],
   "source": [
    "anova_test_df.info()"
   ]
  },
  {
   "cell_type": "code",
   "execution_count": 76,
   "id": "ccbd6c27",
   "metadata": {},
   "outputs": [
    {
     "data": {
      "text/html": [
       "<div>\n",
       "<style scoped>\n",
       "    .dataframe tbody tr th:only-of-type {\n",
       "        vertical-align: middle;\n",
       "    }\n",
       "\n",
       "    .dataframe tbody tr th {\n",
       "        vertical-align: top;\n",
       "    }\n",
       "\n",
       "    .dataframe thead th {\n",
       "        text-align: right;\n",
       "    }\n",
       "</style>\n",
       "<table border=\"1\" class=\"dataframe\">\n",
       "  <thead>\n",
       "    <tr style=\"text-align: right;\">\n",
       "      <th></th>\n",
       "      <th>Incident ID</th>\n",
       "      <th>Incident Date</th>\n",
       "      <th>State</th>\n",
       "      <th>City Or County</th>\n",
       "      <th>Killed</th>\n",
       "      <th>Injured</th>\n",
       "      <th>month</th>\n",
       "      <th>Grade</th>\n",
       "      <th>total_incidents</th>\n",
       "      <th>total_killed</th>\n",
       "      <th>total_injured</th>\n",
       "    </tr>\n",
       "  </thead>\n",
       "  <tbody>\n",
       "    <tr>\n",
       "      <th>0</th>\n",
       "      <td>2491656</td>\n",
       "      <td>2022-12-31</td>\n",
       "      <td>Arizona</td>\n",
       "      <td>Phoenix</td>\n",
       "      <td>0</td>\n",
       "      <td>9</td>\n",
       "      <td>12</td>\n",
       "      <td>F</td>\n",
       "      <td>13</td>\n",
       "      <td>16</td>\n",
       "      <td>67</td>\n",
       "    </tr>\n",
       "    <tr>\n",
       "      <th>1</th>\n",
       "      <td>2492253</td>\n",
       "      <td>2022-12-31</td>\n",
       "      <td>Alabama</td>\n",
       "      <td>Mobile</td>\n",
       "      <td>1</td>\n",
       "      <td>8</td>\n",
       "      <td>12</td>\n",
       "      <td>F</td>\n",
       "      <td>16</td>\n",
       "      <td>11</td>\n",
       "      <td>69</td>\n",
       "    </tr>\n",
       "    <tr>\n",
       "      <th>2</th>\n",
       "      <td>2491054</td>\n",
       "      <td>2022-12-30</td>\n",
       "      <td>Tennessee</td>\n",
       "      <td>Memphis</td>\n",
       "      <td>1</td>\n",
       "      <td>3</td>\n",
       "      <td>12</td>\n",
       "      <td>F</td>\n",
       "      <td>17</td>\n",
       "      <td>14</td>\n",
       "      <td>72</td>\n",
       "    </tr>\n",
       "    <tr>\n",
       "      <th>3</th>\n",
       "      <td>2490925</td>\n",
       "      <td>2022-12-30</td>\n",
       "      <td>Texas</td>\n",
       "      <td>Humble</td>\n",
       "      <td>2</td>\n",
       "      <td>3</td>\n",
       "      <td>12</td>\n",
       "      <td>F</td>\n",
       "      <td>50</td>\n",
       "      <td>90</td>\n",
       "      <td>200</td>\n",
       "    </tr>\n",
       "    <tr>\n",
       "      <th>4</th>\n",
       "      <td>2489614</td>\n",
       "      <td>2022-12-28</td>\n",
       "      <td>New York</td>\n",
       "      <td>Bronx</td>\n",
       "      <td>1</td>\n",
       "      <td>3</td>\n",
       "      <td>12</td>\n",
       "      <td>A</td>\n",
       "      <td>31</td>\n",
       "      <td>23</td>\n",
       "      <td>129</td>\n",
       "    </tr>\n",
       "  </tbody>\n",
       "</table>\n",
       "</div>"
      ],
      "text/plain": [
       "   Incident ID Incident Date      State City Or County  Killed  Injured  \\\n",
       "0      2491656    2022-12-31    Arizona        Phoenix       0        9   \n",
       "1      2492253    2022-12-31    Alabama         Mobile       1        8   \n",
       "2      2491054    2022-12-30  Tennessee        Memphis       1        3   \n",
       "3      2490925    2022-12-30      Texas         Humble       2        3   \n",
       "4      2489614    2022-12-28   New York          Bronx       1        3   \n",
       "\n",
       "   month Grade  total_incidents  total_killed  total_injured  \n",
       "0     12     F               13            16             67  \n",
       "1     12     F               16            11             69  \n",
       "2     12     F               17            14             72  \n",
       "3     12     F               50            90            200  \n",
       "4     12     A               31            23            129  "
      ]
     },
     "execution_count": 76,
     "metadata": {},
     "output_type": "execute_result"
    }
   ],
   "source": [
    "#Viewing DF for anova\n",
    "anova_test_df.head()"
   ]
  },
  {
   "cell_type": "code",
   "execution_count": 77,
   "id": "3e562c0e",
   "metadata": {
    "scrolled": true
   },
   "outputs": [],
   "source": [
    "#Drop columns not needed for anova test\n",
    "drop_col = [\"Incident ID\", \"Incident Date\", 'City Or County', 'Killed', 'Injured', 'month']\n",
    "\n",
    "anova_test_df.drop(columns=drop_col, axis=1, inplace=True)\n"
   ]
  },
  {
   "cell_type": "code",
   "execution_count": 78,
   "id": "59d73f91",
   "metadata": {},
   "outputs": [],
   "source": [
    "#Drop duplicates for anova test\n",
    "anova_test_df.drop_duplicates(keep='first', inplace=True)"
   ]
  },
  {
   "cell_type": "code",
   "execution_count": 79,
   "id": "557e6fe3",
   "metadata": {
    "scrolled": true
   },
   "outputs": [
    {
     "name": "stdout",
     "output_type": "stream",
     "text": [
      "<class 'pandas.core.frame.DataFrame'>\n",
      "Int64Index: 37 entries, 0 to 518\n",
      "Data columns (total 5 columns):\n",
      " #   Column           Non-Null Count  Dtype \n",
      "---  ------           --------------  ----- \n",
      " 0   State            37 non-null     object\n",
      " 1   Grade            37 non-null     object\n",
      " 2   total_incidents  37 non-null     int64 \n",
      " 3   total_killed     37 non-null     int64 \n",
      " 4   total_injured    37 non-null     int64 \n",
      "dtypes: int64(3), object(2)\n",
      "memory usage: 1.7+ KB\n"
     ]
    }
   ],
   "source": [
    "anova_test_df.info()"
   ]
  },
  {
   "cell_type": "code",
   "execution_count": 80,
   "id": "ab0947b5",
   "metadata": {
    "scrolled": true
   },
   "outputs": [
    {
     "data": {
      "text/html": [
       "<div>\n",
       "<style scoped>\n",
       "    .dataframe tbody tr th:only-of-type {\n",
       "        vertical-align: middle;\n",
       "    }\n",
       "\n",
       "    .dataframe tbody tr th {\n",
       "        vertical-align: top;\n",
       "    }\n",
       "\n",
       "    .dataframe thead th {\n",
       "        text-align: right;\n",
       "    }\n",
       "</style>\n",
       "<table border=\"1\" class=\"dataframe\">\n",
       "  <thead>\n",
       "    <tr style=\"text-align: right;\">\n",
       "      <th></th>\n",
       "      <th>State</th>\n",
       "      <th>Grade</th>\n",
       "      <th>total_incidents</th>\n",
       "      <th>total_killed</th>\n",
       "      <th>total_injured</th>\n",
       "    </tr>\n",
       "  </thead>\n",
       "  <tbody>\n",
       "    <tr>\n",
       "      <th>0</th>\n",
       "      <td>Arizona</td>\n",
       "      <td>F</td>\n",
       "      <td>13</td>\n",
       "      <td>16</td>\n",
       "      <td>67</td>\n",
       "    </tr>\n",
       "    <tr>\n",
       "      <th>1</th>\n",
       "      <td>Alabama</td>\n",
       "      <td>F</td>\n",
       "      <td>16</td>\n",
       "      <td>11</td>\n",
       "      <td>69</td>\n",
       "    </tr>\n",
       "    <tr>\n",
       "      <th>2</th>\n",
       "      <td>Tennessee</td>\n",
       "      <td>F</td>\n",
       "      <td>17</td>\n",
       "      <td>14</td>\n",
       "      <td>72</td>\n",
       "    </tr>\n",
       "    <tr>\n",
       "      <th>3</th>\n",
       "      <td>Texas</td>\n",
       "      <td>F</td>\n",
       "      <td>50</td>\n",
       "      <td>90</td>\n",
       "      <td>200</td>\n",
       "    </tr>\n",
       "    <tr>\n",
       "      <th>4</th>\n",
       "      <td>New York</td>\n",
       "      <td>A</td>\n",
       "      <td>31</td>\n",
       "      <td>23</td>\n",
       "      <td>129</td>\n",
       "    </tr>\n",
       "  </tbody>\n",
       "</table>\n",
       "</div>"
      ],
      "text/plain": [
       "       State Grade  total_incidents  total_killed  total_injured\n",
       "0    Arizona     F               13            16             67\n",
       "1    Alabama     F               16            11             69\n",
       "2  Tennessee     F               17            14             72\n",
       "3      Texas     F               50            90            200\n",
       "4   New York     A               31            23            129"
      ]
     },
     "execution_count": 80,
     "metadata": {},
     "output_type": "execute_result"
    }
   ],
   "source": [
    "#Viewing df for anova test\n",
    "anova_test_df.head()"
   ]
  },
  {
   "cell_type": "code",
   "execution_count": 81,
   "id": "6bb7e08c",
   "metadata": {},
   "outputs": [
    {
     "name": "stdout",
     "output_type": "stream",
     "text": [
      "<class 'pandas.core.frame.DataFrame'>\n",
      "Int64Index: 37 entries, 0 to 518\n",
      "Data columns (total 5 columns):\n",
      " #   Column           Non-Null Count  Dtype \n",
      "---  ------           --------------  ----- \n",
      " 0   State            37 non-null     object\n",
      " 1   total_incidents  37 non-null     int64 \n",
      " 2   total_killed     37 non-null     int64 \n",
      " 3   total_injured    37 non-null     int64 \n",
      " 4   Grade            37 non-null     object\n",
      "dtypes: int64(3), object(2)\n",
      "memory usage: 1.7+ KB\n"
     ]
    }
   ],
   "source": [
    "t_test_df.info()"
   ]
  },
  {
   "cell_type": "code",
   "execution_count": 82,
   "id": "e41cf77a",
   "metadata": {},
   "outputs": [
    {
     "data": {
      "text/html": [
       "<div>\n",
       "<style scoped>\n",
       "    .dataframe tbody tr th:only-of-type {\n",
       "        vertical-align: middle;\n",
       "    }\n",
       "\n",
       "    .dataframe tbody tr th {\n",
       "        vertical-align: top;\n",
       "    }\n",
       "\n",
       "    .dataframe thead th {\n",
       "        text-align: right;\n",
       "    }\n",
       "</style>\n",
       "<table border=\"1\" class=\"dataframe\">\n",
       "  <thead>\n",
       "    <tr style=\"text-align: right;\">\n",
       "      <th></th>\n",
       "      <th>State</th>\n",
       "      <th>total_incidents</th>\n",
       "      <th>total_killed</th>\n",
       "      <th>total_injured</th>\n",
       "      <th>Grade</th>\n",
       "    </tr>\n",
       "  </thead>\n",
       "  <tbody>\n",
       "    <tr>\n",
       "      <th>159</th>\n",
       "      <td>Nevada</td>\n",
       "      <td>5</td>\n",
       "      <td>2</td>\n",
       "      <td>36</td>\n",
       "      <td>C+</td>\n",
       "    </tr>\n",
       "    <tr>\n",
       "      <th>40</th>\n",
       "      <td>Maryland</td>\n",
       "      <td>19</td>\n",
       "      <td>31</td>\n",
       "      <td>53</td>\n",
       "      <td>A</td>\n",
       "    </tr>\n",
       "    <tr>\n",
       "      <th>11</th>\n",
       "      <td>Kansas</td>\n",
       "      <td>3</td>\n",
       "      <td>3</td>\n",
       "      <td>12</td>\n",
       "      <td>F</td>\n",
       "    </tr>\n",
       "    <tr>\n",
       "      <th>3</th>\n",
       "      <td>Texas</td>\n",
       "      <td>50</td>\n",
       "      <td>90</td>\n",
       "      <td>200</td>\n",
       "      <td>F</td>\n",
       "    </tr>\n",
       "    <tr>\n",
       "      <th>518</th>\n",
       "      <td>Iowa</td>\n",
       "      <td>2</td>\n",
       "      <td>3</td>\n",
       "      <td>13</td>\n",
       "      <td>F</td>\n",
       "    </tr>\n",
       "    <tr>\n",
       "      <th>57</th>\n",
       "      <td>New Jersey</td>\n",
       "      <td>9</td>\n",
       "      <td>3</td>\n",
       "      <td>40</td>\n",
       "      <td>A</td>\n",
       "    </tr>\n",
       "    <tr>\n",
       "      <th>81</th>\n",
       "      <td>South Carolina</td>\n",
       "      <td>20</td>\n",
       "      <td>15</td>\n",
       "      <td>93</td>\n",
       "      <td>F</td>\n",
       "    </tr>\n",
       "    <tr>\n",
       "      <th>93</th>\n",
       "      <td>Wisconsin</td>\n",
       "      <td>16</td>\n",
       "      <td>20</td>\n",
       "      <td>68</td>\n",
       "      <td>C-</td>\n",
       "    </tr>\n",
       "    <tr>\n",
       "      <th>12</th>\n",
       "      <td>Florida</td>\n",
       "      <td>31</td>\n",
       "      <td>23</td>\n",
       "      <td>129</td>\n",
       "      <td>C-</td>\n",
       "    </tr>\n",
       "    <tr>\n",
       "      <th>89</th>\n",
       "      <td>Missouri</td>\n",
       "      <td>14</td>\n",
       "      <td>14</td>\n",
       "      <td>60</td>\n",
       "      <td>F</td>\n",
       "    </tr>\n",
       "  </tbody>\n",
       "</table>\n",
       "</div>"
      ],
      "text/plain": [
       "              State  total_incidents  total_killed  total_injured Grade\n",
       "159          Nevada                5             2             36    C+\n",
       "40         Maryland               19            31             53     A\n",
       "11           Kansas                3             3             12     F\n",
       "3             Texas               50            90            200     F\n",
       "518            Iowa                2             3             13     F\n",
       "57       New Jersey                9             3             40     A\n",
       "81   South Carolina               20            15             93     F\n",
       "93        Wisconsin               16            20             68    C-\n",
       "12          Florida               31            23            129    C-\n",
       "89         Missouri               14            14             60     F"
      ]
     },
     "execution_count": 82,
     "metadata": {},
     "output_type": "execute_result"
    }
   ],
   "source": [
    "#Verifying df has varied 'C' grade to split later\n",
    "t_test_df.sample(10)"
   ]
  },
  {
   "cell_type": "markdown",
   "id": "a90a90e6",
   "metadata": {},
   "source": [
    "<a id='ab_test'></a>\n",
    "## ANOVA Test\n",
    "\n",
    "For the ANOVA Test to determine if there is a difference in the incidents of mass shootings for states with strict gun laws and states with weak gun laws, two hypotheses must be determined. The Null Hypothesis for this project will assume there is no difference in mass shooting events between states with strict gun laws and states with weak gun laws. For our alternative hypothesis, we are trying to disprove the null hypothesis. Therefore, the alternative hypothesis for this project assumes there is a difference in the incidence of mass shooting events between states with strict gun laws and states with weak gun laws."
   ]
  },
  {
   "cell_type": "code",
   "execution_count": 83,
   "id": "9071accd",
   "metadata": {},
   "outputs": [],
   "source": [
    "# get ANOVA table as R like output\n",
    "import statsmodels.api as sm\n",
    "from statsmodels.formula.api import ols\n",
    "import scipy.stats as stats"
   ]
  },
  {
   "cell_type": "code",
   "execution_count": 121,
   "id": "a030d77a",
   "metadata": {
    "scrolled": true
   },
   "outputs": [
    {
     "data": {
      "image/png": "[encoded data removed]",
      "text/plain": [
       "<Figure size 640x480 with 1 Axes>"
      ]
     },
     "metadata": {},
     "output_type": "display_data"
    }
   ],
   "source": [
    "#State Totals Anova test Boxplot to view groups\n",
    "anova_test_df.boxplot('total_incidents', by=\"Grade\")\n",
    "plt.title('Number of Mass Shooting Events by State Grade')\n",
    "plt.xlabel('State Grade Level')\n",
    "plt.ylabel('Number of Mass Shooting Events');"
   ]
  },
  {
   "cell_type": "markdown",
   "id": "6ebe4925",
   "metadata": {},
   "source": [
    "After viewing the boxplot of the 5 groups, significant variance is noted between the sample groups. This suggests the ANOVA may not be the best fit for this project. I am still going to run the ANOVA test for educational purposes"
   ]
  },
  {
   "cell_type": "code",
   "execution_count": 103,
   "id": "2d36d1e5",
   "metadata": {},
   "outputs": [],
   "source": [
    "#pip install pingouin"
   ]
  },
  {
   "cell_type": "code",
   "execution_count": 122,
   "id": "a577ca8b",
   "metadata": {
    "scrolled": true
   },
   "outputs": [
    {
     "name": "stdout",
     "output_type": "stream",
     "text": [
      "   Source           SS  DF          MS         F     p-unc       np2\n",
      "0   Grade   484.517535   4  121.129384  0.602936  0.663295  0.070085\n",
      "1  Within  6428.779762  32  200.899368       NaN       NaN       NaN\n"
     ]
    }
   ],
   "source": [
    "#Running ANOVA using pingouin\n",
    "import pingouin as pg\n",
    "\n",
    "aov = pg.anova(data=anova_test_df, dv='total_incidents', between='Grade', detailed=True)\n",
    "print(aov)"
   ]
  },
  {
   "cell_type": "code",
   "execution_count": 86,
   "id": "329f6aed",
   "metadata": {},
   "outputs": [
    {
     "name": "stdout",
     "output_type": "stream",
     "text": [
      "   A  B    mean(A)    mean(B)       diff         se         T   p-tukey  \\\n",
      "0  A  B  24.571429  14.333333  10.238095   7.885629  1.298323  0.694096   \n",
      "1  A  C  24.571429  14.875000   9.696429   7.335689  1.321816  0.679966   \n",
      "2  A  D  24.571429  17.000000   7.571429  11.364400  0.666241  0.962209   \n",
      "3  A  F  24.571429  16.285714   8.285714   6.561240  1.262828  0.715146   \n",
      "4  B  C  14.333333  14.875000  -0.541667   7.654779 -0.070762  0.999994   \n",
      "5  B  D  14.333333  17.000000  -2.666667  11.572939 -0.230423  0.999340   \n",
      "6  B  F  14.333333  16.285714  -1.952381   6.916154 -0.282293  0.998534   \n",
      "7  C  D  14.875000  17.000000  -2.125000  11.205450 -0.189640  0.999694   \n",
      "8  C  F  14.875000  16.285714  -1.410714   6.281909 -0.224568  0.999404   \n",
      "9  D  F  17.000000  16.285714   0.714286  10.714459  0.066666  0.999995   \n",
      "\n",
      "     hedges  \n",
      "0  0.526664  \n",
      "1  0.543405  \n",
      "2  0.327746  \n",
      "3  0.488164  \n",
      "4 -0.047352  \n",
      "5 -0.220870  \n",
      "6 -0.151166  \n",
      "7 -0.200807  \n",
      "8 -0.114216  \n",
      "9  0.055024  \n"
     ]
    }
   ],
   "source": [
    "#ANOVA test is not significant but still running post-hoc for educational purposes\n",
    "#Pairwise comparison using Tukey\n",
    "\n",
    "pt = pg.pairwise_tukey(dv='total_incidents', between='Grade', data=anova_test_df)\n",
    "print(pt)"
   ]
  },
  {
   "cell_type": "code",
   "execution_count": 123,
   "id": "b14cca34",
   "metadata": {},
   "outputs": [
    {
     "name": "stdout",
     "output_type": "stream",
     "text": [
      "0.6029356155750204 0.6632953855019299\n"
     ]
    }
   ],
   "source": [
    "# Another way to run ANOVA, verifying results\n",
    "# stats f_oneway functions takes the groups as input and returns ANOVA F and p value\n",
    "fvalue, pvalue = stats.f_oneway(anova_test_df['total_incidents'][anova_test_df['Grade'] == 'A'],\n",
    "               anova_test_df['total_incidents'][anova_test_df['Grade'] == 'B'],\n",
    "               anova_test_df['total_incidents'][anova_test_df['Grade'] == 'C'],\n",
    "               anova_test_df['total_incidents'][anova_test_df['Grade'] == 'D'],\n",
    "               anova_test_df['total_incidents'][anova_test_df['Grade'] == 'F'])\n",
    "print(fvalue, pvalue)"
   ]
  },
  {
   "cell_type": "markdown",
   "id": "458c4e7f",
   "metadata": {},
   "source": [
    "#### ANOVA Results\n",
    "\n",
    "Based on the above One-Way ANOVA analysis, there is no siginficant difference amoung the state law groups (F-value = 0.60, p-value = 0.66). The p-value of 0.66 is greater than the alpha of 0.05, so we Fail to Reject the null hypothesis and accept there is no statistically significant difference among the state gun law groups and incidence of mass shootings. \n",
    "\n",
    "#### Kruskal-Wallis\n",
    "Because there is variance among the groups and the sample sizes are considerably different, Kruskal-Wallis Test will be performed. Kruskal-Wallis is a non-parametric version of ANOVA testing that compares median scores of each group to determine if there is a significant difference among the median values."
   ]
  },
  {
   "cell_type": "code",
   "execution_count": 124,
   "id": "81ac9ec5",
   "metadata": {},
   "outputs": [],
   "source": [
    "from scipy import stats\n",
    "\n",
    "#Creating groups\n",
    "groupA = np.array(anova_test_df.query('Grade == \"A\"')['total_incidents'])\n",
    "groupB = np.array(anova_test_df.query('Grade == \"B\"')['total_incidents'])\n",
    "groupC = np.array(anova_test_df.query('Grade == \"C\"')['total_incidents'])\n",
    "groupD = np.array(anova_test_df.query('Grade == \"D\"')['total_incidents'])\n",
    "groupF = np.array(anova_test_df.query('Grade == \"F\"')['total_incidents'])\n",
    "\n"
   ]
  },
  {
   "cell_type": "code",
   "execution_count": 125,
   "id": "86d8da68",
   "metadata": {},
   "outputs": [
    {
     "data": {
      "text/plain": [
       "KruskalResult(statistic=0.7784433169870939, pvalue=0.9413144531368169)"
      ]
     },
     "execution_count": 125,
     "metadata": {},
     "output_type": "execute_result"
    }
   ],
   "source": [
    "#perform Kruskal-Wallis Test \n",
    "stats.kruskal(groupA, groupB, groupC, groupD, groupF)"
   ]
  },
  {
   "cell_type": "markdown",
   "id": "c3a83e30",
   "metadata": {},
   "source": [
    "#### Kruskal-Wallis Results\n",
    "\n",
    "Following Kruskal-Wallis analysis, the p-value of 0.94 is greater than alpha of 0.05, indicating there is no significant difference among the median values of all state gun law groups."
   ]
  },
  {
   "cell_type": "markdown",
   "id": "3baac793",
   "metadata": {},
   "source": [
    "### Two Sample T-Test\n",
    "\n",
    "Because our sample sizes are fairly small and not distributed evenly, we will now divide the dataset into two groups. The Strict Gun Laws group will include those states with ratings from 'A+' to 'C'. Weak Gun Laws group will include those states with ratings from 'C-' to 'F-'. Total number of states within the Strict Group is 17, while total number of states within the Weak Group is 20. Total number of mass shooting incidents in the Strict Group = 304 while total number of mass shooting incidents in the Weak Group = 335."
   ]
  },
  {
   "cell_type": "code",
   "execution_count": 90,
   "id": "9caca8d0",
   "metadata": {
    "scrolled": true
   },
   "outputs": [
    {
     "data": {
      "text/html": [
       "<div>\n",
       "<style scoped>\n",
       "    .dataframe tbody tr th:only-of-type {\n",
       "        vertical-align: middle;\n",
       "    }\n",
       "\n",
       "    .dataframe tbody tr th {\n",
       "        vertical-align: top;\n",
       "    }\n",
       "\n",
       "    .dataframe thead th {\n",
       "        text-align: right;\n",
       "    }\n",
       "</style>\n",
       "<table border=\"1\" class=\"dataframe\">\n",
       "  <thead>\n",
       "    <tr style=\"text-align: right;\">\n",
       "      <th></th>\n",
       "      <th>State</th>\n",
       "      <th>total_incidents</th>\n",
       "      <th>total_killed</th>\n",
       "      <th>total_injured</th>\n",
       "      <th>Grade</th>\n",
       "    </tr>\n",
       "  </thead>\n",
       "  <tbody>\n",
       "    <tr>\n",
       "      <th>4</th>\n",
       "      <td>New York</td>\n",
       "      <td>31</td>\n",
       "      <td>23</td>\n",
       "      <td>129</td>\n",
       "      <td>A</td>\n",
       "    </tr>\n",
       "    <tr>\n",
       "      <th>8</th>\n",
       "      <td>California</td>\n",
       "      <td>50</td>\n",
       "      <td>62</td>\n",
       "      <td>192</td>\n",
       "      <td>A</td>\n",
       "    </tr>\n",
       "    <tr>\n",
       "      <th>16</th>\n",
       "      <td>Illinois</td>\n",
       "      <td>57</td>\n",
       "      <td>51</td>\n",
       "      <td>254</td>\n",
       "      <td>A</td>\n",
       "    </tr>\n",
       "    <tr>\n",
       "      <th>25</th>\n",
       "      <td>Michigan</td>\n",
       "      <td>25</td>\n",
       "      <td>19</td>\n",
       "      <td>100</td>\n",
       "      <td>C+</td>\n",
       "    </tr>\n",
       "    <tr>\n",
       "      <th>40</th>\n",
       "      <td>Maryland</td>\n",
       "      <td>19</td>\n",
       "      <td>31</td>\n",
       "      <td>53</td>\n",
       "      <td>A</td>\n",
       "    </tr>\n",
       "    <tr>\n",
       "      <th>41</th>\n",
       "      <td>Pennsylvania</td>\n",
       "      <td>34</td>\n",
       "      <td>23</td>\n",
       "      <td>146</td>\n",
       "      <td>B</td>\n",
       "    </tr>\n",
       "    <tr>\n",
       "      <th>42</th>\n",
       "      <td>Virginia</td>\n",
       "      <td>20</td>\n",
       "      <td>37</td>\n",
       "      <td>75</td>\n",
       "      <td>B</td>\n",
       "    </tr>\n",
       "    <tr>\n",
       "      <th>46</th>\n",
       "      <td>Colorado</td>\n",
       "      <td>13</td>\n",
       "      <td>23</td>\n",
       "      <td>57</td>\n",
       "      <td>B</td>\n",
       "    </tr>\n",
       "    <tr>\n",
       "      <th>57</th>\n",
       "      <td>New Jersey</td>\n",
       "      <td>9</td>\n",
       "      <td>3</td>\n",
       "      <td>40</td>\n",
       "      <td>A</td>\n",
       "    </tr>\n",
       "    <tr>\n",
       "      <th>109</th>\n",
       "      <td>Massachusetts</td>\n",
       "      <td>3</td>\n",
       "      <td>0</td>\n",
       "      <td>14</td>\n",
       "      <td>A</td>\n",
       "    </tr>\n",
       "    <tr>\n",
       "      <th>127</th>\n",
       "      <td>Oregon</td>\n",
       "      <td>6</td>\n",
       "      <td>6</td>\n",
       "      <td>24</td>\n",
       "      <td>B</td>\n",
       "    </tr>\n",
       "    <tr>\n",
       "      <th>133</th>\n",
       "      <td>Washington</td>\n",
       "      <td>11</td>\n",
       "      <td>4</td>\n",
       "      <td>49</td>\n",
       "      <td>B</td>\n",
       "    </tr>\n",
       "    <tr>\n",
       "      <th>159</th>\n",
       "      <td>Nevada</td>\n",
       "      <td>5</td>\n",
       "      <td>2</td>\n",
       "      <td>36</td>\n",
       "      <td>C+</td>\n",
       "    </tr>\n",
       "    <tr>\n",
       "      <th>162</th>\n",
       "      <td>Minnesota</td>\n",
       "      <td>12</td>\n",
       "      <td>11</td>\n",
       "      <td>43</td>\n",
       "      <td>C+</td>\n",
       "    </tr>\n",
       "    <tr>\n",
       "      <th>171</th>\n",
       "      <td>New Mexico</td>\n",
       "      <td>4</td>\n",
       "      <td>2</td>\n",
       "      <td>17</td>\n",
       "      <td>C</td>\n",
       "    </tr>\n",
       "    <tr>\n",
       "      <th>194</th>\n",
       "      <td>Delaware</td>\n",
       "      <td>2</td>\n",
       "      <td>0</td>\n",
       "      <td>8</td>\n",
       "      <td>B</td>\n",
       "    </tr>\n",
       "    <tr>\n",
       "      <th>267</th>\n",
       "      <td>Connecticut</td>\n",
       "      <td>3</td>\n",
       "      <td>1</td>\n",
       "      <td>11</td>\n",
       "      <td>A</td>\n",
       "    </tr>\n",
       "  </tbody>\n",
       "</table>\n",
       "</div>"
      ],
      "text/plain": [
       "             State  total_incidents  total_killed  total_injured Grade\n",
       "4         New York               31            23            129     A\n",
       "8       California               50            62            192     A\n",
       "16        Illinois               57            51            254     A\n",
       "25        Michigan               25            19            100    C+\n",
       "40        Maryland               19            31             53     A\n",
       "41    Pennsylvania               34            23            146     B\n",
       "42        Virginia               20            37             75     B\n",
       "46        Colorado               13            23             57     B\n",
       "57      New Jersey                9             3             40     A\n",
       "109  Massachusetts                3             0             14     A\n",
       "127         Oregon                6             6             24     B\n",
       "133     Washington               11             4             49     B\n",
       "159         Nevada                5             2             36    C+\n",
       "162      Minnesota               12            11             43    C+\n",
       "171     New Mexico                4             2             17     C\n",
       "194       Delaware                2             0              8     B\n",
       "267    Connecticut                3             1             11     A"
      ]
     },
     "execution_count": 90,
     "metadata": {},
     "output_type": "execute_result"
    }
   ],
   "source": [
    "#Splitting df into 2 groups\n",
    "#Strict group\n",
    "strict_states = t_test_df.query('Grade == [\"A\",\"B\",\"C+\",\"C\"]').copy()\n",
    "strict_states"
   ]
  },
  {
   "cell_type": "code",
   "execution_count": 91,
   "id": "6c48bd37",
   "metadata": {},
   "outputs": [
    {
     "data": {
      "text/html": [
       "<div>\n",
       "<style scoped>\n",
       "    .dataframe tbody tr th:only-of-type {\n",
       "        vertical-align: middle;\n",
       "    }\n",
       "\n",
       "    .dataframe tbody tr th {\n",
       "        vertical-align: top;\n",
       "    }\n",
       "\n",
       "    .dataframe thead th {\n",
       "        text-align: right;\n",
       "    }\n",
       "</style>\n",
       "<table border=\"1\" class=\"dataframe\">\n",
       "  <thead>\n",
       "    <tr style=\"text-align: right;\">\n",
       "      <th></th>\n",
       "      <th>State</th>\n",
       "      <th>total_incidents</th>\n",
       "      <th>total_killed</th>\n",
       "      <th>total_injured</th>\n",
       "      <th>Grade</th>\n",
       "    </tr>\n",
       "  </thead>\n",
       "  <tbody>\n",
       "    <tr>\n",
       "      <th>0</th>\n",
       "      <td>Arizona</td>\n",
       "      <td>13</td>\n",
       "      <td>16</td>\n",
       "      <td>67</td>\n",
       "      <td>F</td>\n",
       "    </tr>\n",
       "    <tr>\n",
       "      <th>1</th>\n",
       "      <td>Alabama</td>\n",
       "      <td>16</td>\n",
       "      <td>11</td>\n",
       "      <td>69</td>\n",
       "      <td>F</td>\n",
       "    </tr>\n",
       "    <tr>\n",
       "      <th>2</th>\n",
       "      <td>Tennessee</td>\n",
       "      <td>17</td>\n",
       "      <td>14</td>\n",
       "      <td>72</td>\n",
       "      <td>F</td>\n",
       "    </tr>\n",
       "    <tr>\n",
       "      <th>3</th>\n",
       "      <td>Texas</td>\n",
       "      <td>50</td>\n",
       "      <td>90</td>\n",
       "      <td>200</td>\n",
       "      <td>F</td>\n",
       "    </tr>\n",
       "    <tr>\n",
       "      <th>7</th>\n",
       "      <td>Ohio</td>\n",
       "      <td>19</td>\n",
       "      <td>19</td>\n",
       "      <td>76</td>\n",
       "      <td>D</td>\n",
       "    </tr>\n",
       "    <tr>\n",
       "      <th>9</th>\n",
       "      <td>Louisiana</td>\n",
       "      <td>28</td>\n",
       "      <td>14</td>\n",
       "      <td>138</td>\n",
       "      <td>F</td>\n",
       "    </tr>\n",
       "    <tr>\n",
       "      <th>10</th>\n",
       "      <td>Mississippi</td>\n",
       "      <td>14</td>\n",
       "      <td>16</td>\n",
       "      <td>57</td>\n",
       "      <td>F</td>\n",
       "    </tr>\n",
       "    <tr>\n",
       "      <th>11</th>\n",
       "      <td>Kansas</td>\n",
       "      <td>3</td>\n",
       "      <td>3</td>\n",
       "      <td>12</td>\n",
       "      <td>F</td>\n",
       "    </tr>\n",
       "    <tr>\n",
       "      <th>12</th>\n",
       "      <td>Florida</td>\n",
       "      <td>31</td>\n",
       "      <td>23</td>\n",
       "      <td>129</td>\n",
       "      <td>C-</td>\n",
       "    </tr>\n",
       "    <tr>\n",
       "      <th>14</th>\n",
       "      <td>Oklahoma</td>\n",
       "      <td>8</td>\n",
       "      <td>23</td>\n",
       "      <td>19</td>\n",
       "      <td>F</td>\n",
       "    </tr>\n",
       "    <tr>\n",
       "      <th>15</th>\n",
       "      <td>Georgia</td>\n",
       "      <td>29</td>\n",
       "      <td>32</td>\n",
       "      <td>109</td>\n",
       "      <td>F</td>\n",
       "    </tr>\n",
       "    <tr>\n",
       "      <th>51</th>\n",
       "      <td>North Carolina</td>\n",
       "      <td>21</td>\n",
       "      <td>17</td>\n",
       "      <td>88</td>\n",
       "      <td>C-</td>\n",
       "    </tr>\n",
       "    <tr>\n",
       "      <th>52</th>\n",
       "      <td>Nebraska</td>\n",
       "      <td>5</td>\n",
       "      <td>6</td>\n",
       "      <td>18</td>\n",
       "      <td>C-</td>\n",
       "    </tr>\n",
       "    <tr>\n",
       "      <th>81</th>\n",
       "      <td>South Carolina</td>\n",
       "      <td>20</td>\n",
       "      <td>15</td>\n",
       "      <td>93</td>\n",
       "      <td>F</td>\n",
       "    </tr>\n",
       "    <tr>\n",
       "      <th>89</th>\n",
       "      <td>Missouri</td>\n",
       "      <td>14</td>\n",
       "      <td>14</td>\n",
       "      <td>60</td>\n",
       "      <td>F</td>\n",
       "    </tr>\n",
       "    <tr>\n",
       "      <th>93</th>\n",
       "      <td>Wisconsin</td>\n",
       "      <td>16</td>\n",
       "      <td>20</td>\n",
       "      <td>68</td>\n",
       "      <td>C-</td>\n",
       "    </tr>\n",
       "    <tr>\n",
       "      <th>121</th>\n",
       "      <td>Arkansas</td>\n",
       "      <td>5</td>\n",
       "      <td>8</td>\n",
       "      <td>36</td>\n",
       "      <td>F</td>\n",
       "    </tr>\n",
       "    <tr>\n",
       "      <th>129</th>\n",
       "      <td>Kentucky</td>\n",
       "      <td>9</td>\n",
       "      <td>7</td>\n",
       "      <td>39</td>\n",
       "      <td>F</td>\n",
       "    </tr>\n",
       "    <tr>\n",
       "      <th>149</th>\n",
       "      <td>Indiana</td>\n",
       "      <td>15</td>\n",
       "      <td>19</td>\n",
       "      <td>58</td>\n",
       "      <td>D</td>\n",
       "    </tr>\n",
       "    <tr>\n",
       "      <th>518</th>\n",
       "      <td>Iowa</td>\n",
       "      <td>2</td>\n",
       "      <td>3</td>\n",
       "      <td>13</td>\n",
       "      <td>F</td>\n",
       "    </tr>\n",
       "  </tbody>\n",
       "</table>\n",
       "</div>"
      ],
      "text/plain": [
       "              State  total_incidents  total_killed  total_injured Grade\n",
       "0           Arizona               13            16             67     F\n",
       "1           Alabama               16            11             69     F\n",
       "2         Tennessee               17            14             72     F\n",
       "3             Texas               50            90            200     F\n",
       "7              Ohio               19            19             76     D\n",
       "9         Louisiana               28            14            138     F\n",
       "10      Mississippi               14            16             57     F\n",
       "11           Kansas                3             3             12     F\n",
       "12          Florida               31            23            129    C-\n",
       "14         Oklahoma                8            23             19     F\n",
       "15          Georgia               29            32            109     F\n",
       "51   North Carolina               21            17             88    C-\n",
       "52         Nebraska                5             6             18    C-\n",
       "81   South Carolina               20            15             93     F\n",
       "89         Missouri               14            14             60     F\n",
       "93        Wisconsin               16            20             68    C-\n",
       "121        Arkansas                5             8             36     F\n",
       "129        Kentucky                9             7             39     F\n",
       "149         Indiana               15            19             58     D\n",
       "518            Iowa                2             3             13     F"
      ]
     },
     "execution_count": 91,
     "metadata": {},
     "output_type": "execute_result"
    }
   ],
   "source": [
    "#Splitting DF into 2 groups\n",
    "#Weak group\n",
    "weak_states = t_test_df.query('Grade == [\"C-\",\"D\",\"F\"]').copy()\n",
    "weak_states"
   ]
  },
  {
   "cell_type": "code",
   "execution_count": 126,
   "id": "734b738f",
   "metadata": {},
   "outputs": [
    {
     "name": "stdout",
     "output_type": "stream",
     "text": [
      "<class 'pandas.core.frame.DataFrame'>\n",
      "Int64Index: 17 entries, 4 to 267\n",
      "Data columns (total 5 columns):\n",
      " #   Column           Non-Null Count  Dtype \n",
      "---  ------           --------------  ----- \n",
      " 0   State            17 non-null     object\n",
      " 1   total_incidents  17 non-null     int64 \n",
      " 2   total_killed     17 non-null     int64 \n",
      " 3   total_injured    17 non-null     int64 \n",
      " 4   Grade            17 non-null     object\n",
      "dtypes: int64(3), object(2)\n",
      "memory usage: 816.0+ bytes\n"
     ]
    }
   ],
   "source": [
    "#Viewing 2 groups\n",
    "strict_states.info()"
   ]
  },
  {
   "cell_type": "code",
   "execution_count": 127,
   "id": "06030740",
   "metadata": {},
   "outputs": [
    {
     "name": "stdout",
     "output_type": "stream",
     "text": [
      "<class 'pandas.core.frame.DataFrame'>\n",
      "Int64Index: 20 entries, 0 to 518\n",
      "Data columns (total 5 columns):\n",
      " #   Column           Non-Null Count  Dtype \n",
      "---  ------           --------------  ----- \n",
      " 0   State            20 non-null     object\n",
      " 1   total_incidents  20 non-null     int64 \n",
      " 2   total_killed     20 non-null     int64 \n",
      " 3   total_injured    20 non-null     int64 \n",
      " 4   Grade            20 non-null     object\n",
      "dtypes: int64(3), object(2)\n",
      "memory usage: 960.0+ bytes\n"
     ]
    }
   ],
   "source": [
    "#Viewing 2 groups\n",
    "weak_states.info()"
   ]
  },
  {
   "cell_type": "code",
   "execution_count": 128,
   "id": "e224c32e",
   "metadata": {},
   "outputs": [
    {
     "data": {
      "text/plain": [
       "17.88235294117647"
      ]
     },
     "execution_count": 128,
     "metadata": {},
     "output_type": "execute_result"
    }
   ],
   "source": [
    "#Viewing mean of strict group\n",
    "strict_states.total_incidents.mean()"
   ]
  },
  {
   "cell_type": "code",
   "execution_count": 129,
   "id": "a104dd74",
   "metadata": {},
   "outputs": [
    {
     "data": {
      "text/plain": [
       "16.75"
      ]
     },
     "execution_count": 129,
     "metadata": {},
     "output_type": "execute_result"
    }
   ],
   "source": [
    "#Viewing mean of weak group\n",
    "weak_states.total_incidents.mean()"
   ]
  },
  {
   "cell_type": "code",
   "execution_count": 96,
   "id": "95d866b7",
   "metadata": {},
   "outputs": [
    {
     "data": {
      "text/plain": [
       "array([[<AxesSubplot:title={'center':'total_incidents'}>,\n",
       "        <AxesSubplot:title={'center':'total_killed'}>],\n",
       "       [<AxesSubplot:title={'center':'total_injured'}>, <AxesSubplot:>]],\n",
       "      dtype=object)"
      ]
     },
     "execution_count": 96,
     "metadata": {},
     "output_type": "execute_result"
    },
    {
     "data": {
      "image/png": "[encoded data removed]",
      "text/plain": [
       "<Figure size 640x480 with 4 Axes>"
      ]
     },
     "metadata": {},
     "output_type": "display_data"
    }
   ],
   "source": [
    "#Viewing strict group hist\n",
    "strict_states.hist()"
   ]
  },
  {
   "cell_type": "code",
   "execution_count": 97,
   "id": "2190ba93",
   "metadata": {},
   "outputs": [
    {
     "data": {
      "text/plain": [
       "array([[<AxesSubplot:title={'center':'total_incidents'}>,\n",
       "        <AxesSubplot:title={'center':'total_killed'}>],\n",
       "       [<AxesSubplot:title={'center':'total_injured'}>, <AxesSubplot:>]],\n",
       "      dtype=object)"
      ]
     },
     "execution_count": 97,
     "metadata": {},
     "output_type": "execute_result"
    },
    {
     "data": {
      "image/png": "[encoded data removed]",
      "text/plain": [
       "<Figure size 640x480 with 4 Axes>"
      ]
     },
     "metadata": {},
     "output_type": "display_data"
    }
   ],
   "source": [
    "#Viewing weak group hist\n",
    "weak_states.hist()"
   ]
  },
  {
   "cell_type": "code",
   "execution_count": 130,
   "id": "615d2652",
   "metadata": {},
   "outputs": [
    {
     "name": "stdout",
     "output_type": "stream",
     "text": [
      "260.57439446366783\n",
      "123.5875\n"
     ]
    }
   ],
   "source": [
    "# Python program to display variance of data groups\n",
    "\n",
    "#creating data groups\n",
    "data_group1 = np.array(strict_states['total_incidents'])\n",
    "data_group2 = np.array(weak_states['total_incidents'])\n",
    " \n",
    "# Print the variance of both data groups\n",
    "print(np.var(data_group1))\n",
    "print(np.var(data_group2))"
   ]
  },
  {
   "cell_type": "code",
   "execution_count": 131,
   "id": "cc229254",
   "metadata": {
    "scrolled": true
   },
   "outputs": [
    {
     "name": "stderr",
     "output_type": "stream",
     "text": [
      "C:\\Users\\andra\\anaconda3\\lib\\site-packages\\scipy\\stats\\morestats.py:1757: UserWarning: Input data for shapiro has range zero. The results may not be accurate.\n",
      "  warnings.warn(\"Input data for shapiro has range zero. The results \"\n"
     ]
    },
    {
     "data": {
      "text/plain": [
       "ShapiroResult(statistic=1.0, pvalue=1.0)"
      ]
     },
     "execution_count": 131,
     "metadata": {},
     "output_type": "execute_result"
    }
   ],
   "source": [
    "#Checking assumption of normal distribution\n",
    "sampling_difference = data_group2 - data_group2\n",
    "                      \n",
    "stats.shapiro(sampling_difference)"
   ]
  },
  {
   "cell_type": "markdown",
   "id": "5328f161",
   "metadata": {},
   "source": [
    "There is no significant difference between the two groups, indicating they are normally distributed"
   ]
  },
  {
   "cell_type": "code",
   "execution_count": 132,
   "id": "49513a93",
   "metadata": {
    "scrolled": true
   },
   "outputs": [
    {
     "data": {
      "image/png": "[encoded data removed]",
      "text/plain": [
       "<Figure size 2000x1000 with 1 Axes>"
      ]
     },
     "metadata": {},
     "output_type": "display_data"
    }
   ],
   "source": [
    "#Plotting assumption of normal distribution\n",
    "fig = plt.figure(figsize= (20, 10))\n",
    "ax = fig.add_subplot(111)\n",
    "\n",
    "normality_plot, stat = stats.probplot(sampling_difference, plot= plt, rvalue= True)\n",
    "ax.set_title(\"Probability plot of sampling difference\", fontsize= 20)\n",
    "ax.set\n",
    "\n",
    "plt.show()"
   ]
  },
  {
   "cell_type": "code",
   "execution_count": 133,
   "id": "aa86c810",
   "metadata": {},
   "outputs": [
    {
     "data": {
      "text/plain": [
       "LeveneResult(statistic=2.905229290550243, pvalue=0.0971560258737737)"
      ]
     },
     "execution_count": 133,
     "metadata": {},
     "output_type": "execute_result"
    }
   ],
   "source": [
    "#Checking assumption Homogeneity of Variance\n",
    "stats.levene(strict_states['total_incidents'],\n",
    "             weak_states['total_incidents'],\n",
    "             center= 'mean')"
   ]
  },
  {
   "cell_type": "markdown",
   "id": "4dce9e13",
   "metadata": {},
   "source": [
    "There is no significant difference among the groups, so the assumption of Homogeneity of Variance is confirmed"
   ]
  },
  {
   "cell_type": "code",
   "execution_count": 134,
   "id": "c54b3841",
   "metadata": {},
   "outputs": [
    {
     "data": {
      "image/png": "[encoded data removed]",
      "text/plain": [
       "<Figure size 1000x500 with 1 Axes>"
      ]
     },
     "metadata": {},
     "output_type": "display_data"
    }
   ],
   "source": [
    "#Plot visualizing distributions of both samples\n",
    "fig = plt.figure(figsize= (10, 5))\n",
    "ax = fig.add_subplot(111)\n",
    "\n",
    "\n",
    "strict = plt.hist(strict_states['total_incidents'], label= \"Strict\",\n",
    "                     density= True,\n",
    "                     alpha=0.75)\n",
    "weak = plt.hist(weak_states['total_incidents'], label= \"Weak\",\n",
    "                       density= True,\n",
    "                       alpha=0.75)\n",
    "\n",
    "\n",
    "plt.suptitle(\"Distribution of MSE Incidents between Strict and Weak States\", fontsize= 15)\n",
    "plt.xlabel(\"States\", fontsize= 16)\n",
    "plt.ylabel(\"Number of MSE\", fontsize= 16)\n",
    "\n",
    "plt.show()"
   ]
  },
  {
   "cell_type": "code",
   "execution_count": 135,
   "id": "3fcc4fc0",
   "metadata": {},
   "outputs": [
    {
     "name": "stdout",
     "output_type": "stream",
     "text": [
      "          Variable     N       Mean         SD        SE  95% Conf.   Interval\n",
      "0  total_incidents  17.0  17.882353  16.639119  4.035579   9.327307  26.437399\n",
      "1  total_incidents  20.0  16.750000  11.405793  2.550413  11.411925  22.088075\n",
      "2         combined  37.0  17.270270  13.857707  2.278193  12.649881  21.890660\n"
     ]
    },
    {
     "name": "stderr",
     "output_type": "stream",
     "text": [
      "C:\\Users\\andra\\anaconda3\\lib\\site-packages\\researchpy\\ttest.py:38: FutureWarning: The series.append method is deprecated and will be removed from pandas in a future version. Use pandas.concat instead.\n",
      "  groups = group1.append(group2, ignore_index= True)\n"
     ]
    }
   ],
   "source": [
    "#Running T-test with researchpy\n",
    "import researchpy as rp\n",
    "summary, results = rp.ttest(group1=strict_states['total_incidents'],group2=weak_states['total_incidents'])\n",
    "print(summary)"
   ]
  },
  {
   "cell_type": "code",
   "execution_count": 136,
   "id": "068c7e16",
   "metadata": {
    "scrolled": true
   },
   "outputs": [
    {
     "name": "stdout",
     "output_type": "stream",
     "text": [
      "                                  Independent t-test  results\n",
      "0  Difference (total_incidents - total_incidents) =    1.1324\n",
      "1                              Degrees of freedom =   35.0000\n",
      "2                                               t =    0.2444\n",
      "3                           Two side test p value =    0.8083\n",
      "4                          Difference < 0 p value =    0.5958\n",
      "5                          Difference > 0 p value =    0.4042\n",
      "6                                       Cohen's d =    0.0806\n",
      "7                                       Hedge's g =    0.0789\n",
      "8                                  Glass's delta1 =    0.0681\n",
      "9                                Point-Biserial r =    0.0413\n"
     ]
    }
   ],
   "source": [
    "print(results)"
   ]
  },
  {
   "cell_type": "code",
   "execution_count": 137,
   "id": "03b1af54",
   "metadata": {
    "scrolled": false
   },
   "outputs": [
    {
     "data": {
      "text/plain": [
       "Ttest_indResult(statistic=0.24444559879560487, pvalue=0.8083131342742044)"
      ]
     },
     "execution_count": 137,
     "metadata": {},
     "output_type": "execute_result"
    }
   ],
   "source": [
    "# Perform the two sample t-test with equal variances\n",
    "# Running t-test with scipy stats\n",
    "stats.ttest_ind(a=data_group1, b=data_group2, equal_var=True)"
   ]
  },
  {
   "cell_type": "code",
   "execution_count": 110,
   "id": "20fde74a",
   "metadata": {},
   "outputs": [
    {
     "name": "stdout",
     "output_type": "stream",
     "text": [
      "               T        dof alternative     p-val           CI95%   cohen-d  \\\n",
      "T-test  0.237195  27.622537   two-sided  0.814256  [-8.65, 10.92]  0.080639   \n",
      "\n",
      "         BF10     power  \n",
      "T-test  0.326  0.056504  \n"
     ]
    }
   ],
   "source": [
    "# Python program to conduct two-sample\n",
    "# T-test using pingouin library\n",
    " \n",
    "# Importing library\n",
    "from statsmodels.stats.weightstats import ttest_ind\n",
    "\n",
    " \n",
    "# Conducting two-sample ttest\n",
    "result = pg.ttest(data_group1,\n",
    "                  data_group2,\n",
    "                  correction=True)\n",
    " \n",
    "# Print the result\n",
    "print(result)"
   ]
  },
  {
   "cell_type": "markdown",
   "id": "6d848ab2",
   "metadata": {},
   "source": [
    "Following dividing the dataset into two groups, a two sample T-Test was conducted. Sample means of each group are similar (strict = 17.88), (weak = 16.75). All T-test assumptions were evaluated and confirmed. The observed T-Test value was 0.244 with a p-value of 0.81. This p-value is greater than the alpha of 0.05 which suggests we Fail to Reject the Null hypothesis, indicating there is no significant difference among the two groups."
   ]
  },
  {
   "cell_type": "code",
   "execution_count": 111,
   "id": "0532744d",
   "metadata": {
    "scrolled": false
   },
   "outputs": [
    {
     "name": "stdout",
     "output_type": "stream",
     "text": [
      "\n",
      "\n"
     ]
    },
    {
     "data": {
      "text/html": [
       "<div>\n",
       "<style scoped>\n",
       "    .dataframe tbody tr th:only-of-type {\n",
       "        vertical-align: middle;\n",
       "    }\n",
       "\n",
       "    .dataframe tbody tr th {\n",
       "        vertical-align: top;\n",
       "    }\n",
       "\n",
       "    .dataframe thead th {\n",
       "        text-align: right;\n",
       "    }\n",
       "</style>\n",
       "<table border=\"1\" class=\"dataframe\">\n",
       "  <thead>\n",
       "    <tr style=\"text-align: right;\">\n",
       "      <th></th>\n",
       "      <th>Variable</th>\n",
       "      <th>N</th>\n",
       "      <th>Mean</th>\n",
       "      <th>SD</th>\n",
       "      <th>SE</th>\n",
       "      <th>95% Conf.</th>\n",
       "      <th>Interval</th>\n",
       "    </tr>\n",
       "  </thead>\n",
       "  <tbody>\n",
       "    <tr>\n",
       "      <th>0</th>\n",
       "      <td>total_incidents</td>\n",
       "      <td>37.0</td>\n",
       "      <td>17.2703</td>\n",
       "      <td>13.8577</td>\n",
       "      <td>2.2782</td>\n",
       "      <td>12.6499</td>\n",
       "      <td>21.8907</td>\n",
       "    </tr>\n",
       "  </tbody>\n",
       "</table>\n",
       "</div>"
      ],
      "text/plain": [
       "          Variable     N     Mean       SD      SE  95% Conf.  Interval\n",
       "0  total_incidents  37.0  17.2703  13.8577  2.2782    12.6499   21.8907"
      ]
     },
     "execution_count": 111,
     "metadata": {},
     "output_type": "execute_result"
    }
   ],
   "source": [
    "rp.summary_cont(anova_test_df['total_incidents'])"
   ]
  },
  {
   "cell_type": "code",
   "execution_count": 112,
   "id": "3a4f998c",
   "metadata": {
    "scrolled": false
   },
   "outputs": [
    {
     "name": "stdout",
     "output_type": "stream",
     "text": [
      "\n",
      "\n"
     ]
    },
    {
     "data": {
      "text/html": [
       "<div>\n",
       "<style scoped>\n",
       "    .dataframe tbody tr th:only-of-type {\n",
       "        vertical-align: middle;\n",
       "    }\n",
       "\n",
       "    .dataframe tbody tr th {\n",
       "        vertical-align: top;\n",
       "    }\n",
       "\n",
       "    .dataframe thead th {\n",
       "        text-align: right;\n",
       "    }\n",
       "</style>\n",
       "<table border=\"1\" class=\"dataframe\">\n",
       "  <thead>\n",
       "    <tr style=\"text-align: right;\">\n",
       "      <th></th>\n",
       "      <th>N</th>\n",
       "      <th>Mean</th>\n",
       "      <th>SD</th>\n",
       "      <th>SE</th>\n",
       "      <th>95% Conf.</th>\n",
       "      <th>Interval</th>\n",
       "    </tr>\n",
       "    <tr>\n",
       "      <th>Grade</th>\n",
       "      <th></th>\n",
       "      <th></th>\n",
       "      <th></th>\n",
       "      <th></th>\n",
       "      <th></th>\n",
       "      <th></th>\n",
       "    </tr>\n",
       "  </thead>\n",
       "  <tbody>\n",
       "    <tr>\n",
       "      <th>A</th>\n",
       "      <td>7</td>\n",
       "      <td>24.5714</td>\n",
       "      <td>22.1499</td>\n",
       "      <td>8.3719</td>\n",
       "      <td>4.0862</td>\n",
       "      <td>45.0567</td>\n",
       "    </tr>\n",
       "    <tr>\n",
       "      <th>B</th>\n",
       "      <td>6</td>\n",
       "      <td>14.3333</td>\n",
       "      <td>11.4310</td>\n",
       "      <td>4.6667</td>\n",
       "      <td>2.3373</td>\n",
       "      <td>26.3294</td>\n",
       "    </tr>\n",
       "    <tr>\n",
       "      <th>C</th>\n",
       "      <td>8</td>\n",
       "      <td>14.8750</td>\n",
       "      <td>10.1621</td>\n",
       "      <td>3.5928</td>\n",
       "      <td>6.3793</td>\n",
       "      <td>23.3707</td>\n",
       "    </tr>\n",
       "    <tr>\n",
       "      <th>D</th>\n",
       "      <td>2</td>\n",
       "      <td>17.0000</td>\n",
       "      <td>2.8284</td>\n",
       "      <td>2.0000</td>\n",
       "      <td>-8.4124</td>\n",
       "      <td>42.4124</td>\n",
       "    </tr>\n",
       "    <tr>\n",
       "      <th>F</th>\n",
       "      <td>14</td>\n",
       "      <td>16.2857</td>\n",
       "      <td>12.7124</td>\n",
       "      <td>3.3975</td>\n",
       "      <td>8.9458</td>\n",
       "      <td>23.6256</td>\n",
       "    </tr>\n",
       "  </tbody>\n",
       "</table>\n",
       "</div>"
      ],
      "text/plain": [
       "        N     Mean       SD      SE  95% Conf.  Interval\n",
       "Grade                                                   \n",
       "A       7  24.5714  22.1499  8.3719     4.0862   45.0567\n",
       "B       6  14.3333  11.4310  4.6667     2.3373   26.3294\n",
       "C       8  14.8750  10.1621  3.5928     6.3793   23.3707\n",
       "D       2  17.0000   2.8284  2.0000    -8.4124   42.4124\n",
       "F      14  16.2857  12.7124  3.3975     8.9458   23.6256"
      ]
     },
     "execution_count": 112,
     "metadata": {},
     "output_type": "execute_result"
    }
   ],
   "source": [
    "rp.summary_cont(anova_test_df['total_incidents'].groupby(anova_test_df['Grade']))"
   ]
  },
  {
   "cell_type": "code",
   "execution_count": 113,
   "id": "f80b9160",
   "metadata": {},
   "outputs": [
    {
     "name": "stdout",
     "output_type": "stream",
     "text": [
      "\n",
      "\n"
     ]
    },
    {
     "data": {
      "text/html": [
       "<div>\n",
       "<style scoped>\n",
       "    .dataframe tbody tr th:only-of-type {\n",
       "        vertical-align: middle;\n",
       "    }\n",
       "\n",
       "    .dataframe tbody tr th {\n",
       "        vertical-align: top;\n",
       "    }\n",
       "\n",
       "    .dataframe thead th {\n",
       "        text-align: right;\n",
       "    }\n",
       "</style>\n",
       "<table border=\"1\" class=\"dataframe\">\n",
       "  <thead>\n",
       "    <tr style=\"text-align: right;\">\n",
       "      <th></th>\n",
       "      <th>N</th>\n",
       "      <th>Mean</th>\n",
       "      <th>SD</th>\n",
       "      <th>SE</th>\n",
       "      <th>95% Conf.</th>\n",
       "      <th>Interval</th>\n",
       "    </tr>\n",
       "    <tr>\n",
       "      <th>Grade</th>\n",
       "      <th></th>\n",
       "      <th></th>\n",
       "      <th></th>\n",
       "      <th></th>\n",
       "      <th></th>\n",
       "      <th></th>\n",
       "    </tr>\n",
       "  </thead>\n",
       "  <tbody>\n",
       "    <tr>\n",
       "      <th>A</th>\n",
       "      <td>7</td>\n",
       "      <td>24.5714</td>\n",
       "      <td>22.1499</td>\n",
       "      <td>8.3719</td>\n",
       "      <td>4.0862</td>\n",
       "      <td>45.0567</td>\n",
       "    </tr>\n",
       "    <tr>\n",
       "      <th>B</th>\n",
       "      <td>6</td>\n",
       "      <td>14.3333</td>\n",
       "      <td>11.4310</td>\n",
       "      <td>4.6667</td>\n",
       "      <td>2.3373</td>\n",
       "      <td>26.3294</td>\n",
       "    </tr>\n",
       "    <tr>\n",
       "      <th>C</th>\n",
       "      <td>1</td>\n",
       "      <td>4.0000</td>\n",
       "      <td>NaN</td>\n",
       "      <td>NaN</td>\n",
       "      <td>NaN</td>\n",
       "      <td>NaN</td>\n",
       "    </tr>\n",
       "    <tr>\n",
       "      <th>C+</th>\n",
       "      <td>3</td>\n",
       "      <td>14.0000</td>\n",
       "      <td>10.1489</td>\n",
       "      <td>5.8595</td>\n",
       "      <td>-11.2112</td>\n",
       "      <td>39.2112</td>\n",
       "    </tr>\n",
       "    <tr>\n",
       "      <th>C-</th>\n",
       "      <td>4</td>\n",
       "      <td>18.2500</td>\n",
       "      <td>10.8128</td>\n",
       "      <td>5.4064</td>\n",
       "      <td>1.0444</td>\n",
       "      <td>35.4556</td>\n",
       "    </tr>\n",
       "    <tr>\n",
       "      <th>D</th>\n",
       "      <td>2</td>\n",
       "      <td>17.0000</td>\n",
       "      <td>2.8284</td>\n",
       "      <td>2.0000</td>\n",
       "      <td>-8.4124</td>\n",
       "      <td>42.4124</td>\n",
       "    </tr>\n",
       "    <tr>\n",
       "      <th>F</th>\n",
       "      <td>14</td>\n",
       "      <td>16.2857</td>\n",
       "      <td>12.7124</td>\n",
       "      <td>3.3975</td>\n",
       "      <td>8.9458</td>\n",
       "      <td>23.6256</td>\n",
       "    </tr>\n",
       "  </tbody>\n",
       "</table>\n",
       "</div>"
      ],
      "text/plain": [
       "        N     Mean       SD      SE  95% Conf.  Interval\n",
       "Grade                                                   \n",
       "A       7  24.5714  22.1499  8.3719     4.0862   45.0567\n",
       "B       6  14.3333  11.4310  4.6667     2.3373   26.3294\n",
       "C       1   4.0000      NaN     NaN        NaN       NaN\n",
       "C+      3  14.0000  10.1489  5.8595   -11.2112   39.2112\n",
       "C-      4  18.2500  10.8128  5.4064     1.0444   35.4556\n",
       "D       2  17.0000   2.8284  2.0000    -8.4124   42.4124\n",
       "F      14  16.2857  12.7124  3.3975     8.9458   23.6256"
      ]
     },
     "execution_count": 113,
     "metadata": {},
     "output_type": "execute_result"
    }
   ],
   "source": [
    "rp.summary_cont(t_test_df['total_incidents'].groupby(t_test_df['Grade']))"
   ]
  }
 ],
 "metadata": {
  "kernelspec": {
   "display_name": "Python 3 (ipykernel)",
   "language": "python",
   "name": "python3"
  },
  "language_info": {
   "codemirror_mode": {
    "name": "ipython",
    "version": 3
   },
   "file_extension": ".py",
   "mimetype": "text/x-python",
   "name": "python",
   "nbconvert_exporter": "python",
   "pygments_lexer": "ipython3",
   "version": "3.9.12"
  }
 },
 "nbformat": 4,
 "nbformat_minor": 5
}
